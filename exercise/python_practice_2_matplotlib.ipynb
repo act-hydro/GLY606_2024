{
 "cells": [
  {
   "cell_type": "markdown",
   "id": "b65d6a09-3c26-4a83-99fa-97a95918e08f",
   "metadata": {},
   "source": [
    "# Exercise 2 - Matplotlib"
   ]
  },
  {
   "cell_type": "code",
   "execution_count": null,
   "id": "e3d65bf4-9cf8-40f5-a0b7-dd8fb50d8c20",
   "metadata": {},
   "outputs": [],
   "source": [
    "#%% \n",
    "# This one is a set of exercises to learn how to \n",
    "# customize plots with matplotlib, but also some\n",
    "# further practice with using numpy and basic\n",
    "# python functionality\n",
    "import numpy as np\n",
    "import matplotlib.pyplot as plt\n"
   ]
  },
  {
   "cell_type": "code",
   "execution_count": null,
   "id": "388c4aeb-b3f4-4ff7-8cd5-defe7418239f",
   "metadata": {},
   "outputs": [],
   "source": [
    "# %% 1.)\n",
    "# Plot a sine wave over the domain defined by `x`\n",
    "x = np.linspace(-5 * np.pi, 5 * np.pi, 1000)\n",
    "y = None\n",
    "\n",
    "plt.plot(x, y)"
   ]
  },
  {
   "cell_type": "code",
   "execution_count": null,
   "id": "a2b708a0-827c-4e4d-bb01-d0e77ba57c10",
   "metadata": {},
   "outputs": [],
   "source": [
    "# %% 2.)\n",
    "# Now plot a sine wave for y1\n",
    "# and a cosine wave for y2 using\n",
    "# the same values for x. Label things\n",
    "# appropriately.\n",
    "y1 = None\n",
    "y2 = None\n",
    "plt.plot(x, y1, label=None)\n",
    "plt.plot(x, y2, label=None)\n",
    "plt.legend()"
   ]
  },
  {
   "cell_type": "code",
   "execution_count": null,
   "id": "9a4f7265-af79-4f2e-aa62-fe7c22ff590f",
   "metadata": {},
   "outputs": [],
   "source": [
    "# %% 3.)\n",
    "# From the previous example, plot the sine wave \n",
    "# agaist the cosine wave. Before proceeeding with\n",
    "# the code, think about what you expect to come out\n",
    "# of this plot. You should not be surprised here...\n",
    "#\n",
    "# TODO: Your code here"
   ]
  },
  {
   "cell_type": "code",
   "execution_count": null,
   "id": "5e3af8de-d121-44e8-b1b0-3d2e46aec534",
   "metadata": {},
   "outputs": [],
   "source": [
    "# %% 4.)\n",
    "# Let's get a bit funky! Now try plotting\n",
    "# sin(x) against x * cos(x)\n",
    "# PS: messing with trig functions is dope, go wild here\n",
    "# TODO: Your code here"
   ]
  },
  {
   "cell_type": "code",
   "execution_count": null,
   "id": "91a09edf-c53b-4d05-9201-4cf1c5095a13",
   "metadata": {},
   "outputs": [],
   "source": [
    "# %% 5.)\n",
    "# Moving to a different plot type, let's return to scatter\n",
    "# plots. Here we just want to make a \"scatter\" for x and y\n",
    "# which are described by a multivariate normal distribution\n",
    "# NOTE: Don't worry if you don't know what the multivariate\n",
    "#       normal distribution means, the code should still work\n",
    "\n",
    "x, y = np.random.multivariate_normal(\n",
    "    mean=[0,1], \n",
    "    cov=[[10, 2],\n",
    "         [ 0, 1]],\n",
    "    size=1000\n",
    ").T\n",
    "# TODO: Your code here\n"
   ]
  },
  {
   "cell_type": "code",
   "execution_count": null,
   "id": "8cac3345-9a37-42e1-bfd4-818f946ec675",
   "metadata": {},
   "outputs": [],
   "source": [
    "# %% 6.)\n",
    "# Now add a horizontal line and a vertical line\n",
    "# for the mean values of y and x.\n",
    "# NOTE: These can be done with `plt.axhline` and `plt.axvline`\n"
   ]
  },
  {
   "cell_type": "code",
   "execution_count": null,
   "id": "49aacb68-b8c6-4470-905c-8627f376e6a5",
   "metadata": {},
   "outputs": [],
   "source": [
    "#%% 7.)\n",
    "# Let's get more advanced and give a taste of \n",
    "# subplots - there's nothing to do here, but if \n",
    "# we get here let's chat!\n",
    "fig, axes = plt.subplots(2,2)\n",
    "axes[0,1].scatter(x, np.log1p(y+20))\n",
    "axes[0,0].hist(np.log1p(y+20), bins=100)\n",
    "axes[1,1].hist(x, bins=100)\n",
    "axes[1,0].axis('off')"
   ]
  },
  {
   "cell_type": "code",
   "execution_count": null,
   "id": "701111a7-88f5-417b-8398-954f9fff75b3",
   "metadata": {},
   "outputs": [],
   "source": []
  },
  {
   "cell_type": "code",
   "execution_count": null,
   "id": "29ebae1a-da55-4215-9336-a1297482a5b6",
   "metadata": {},
   "outputs": [],
   "source": []
  }
 ],
 "metadata": {
  "kernelspec": {
   "display_name": "Python 3 (ipykernel)",
   "language": "python",
   "name": "python3"
  },
  "language_info": {
   "codemirror_mode": {
    "name": "ipython",
    "version": 3
   },
   "file_extension": ".py",
   "mimetype": "text/x-python",
   "name": "python",
   "nbconvert_exporter": "python",
   "pygments_lexer": "ipython3",
   "version": "3.9.7"
  }
 },
 "nbformat": 4,
 "nbformat_minor": 5
}
