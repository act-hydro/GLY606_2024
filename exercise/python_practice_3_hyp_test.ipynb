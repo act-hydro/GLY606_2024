{
 "cells": [
  {
   "cell_type": "markdown",
   "id": "a8749920-d23c-4f10-b71a-74d368a94e50",
   "metadata": {},
   "source": [
    "# Practice for Hypothesis Testing"
   ]
  },
  {
   "cell_type": "code",
   "execution_count": null,
   "id": "e6b9edff-2d05-4e52-bfd5-8effb124c1e0",
   "metadata": {},
   "outputs": [],
   "source": [
    "%matplotlib inline\n",
    "import numpy as np\n",
    "import pandas as pd\n",
    "import xarray as xr\n",
    "import matplotlib.pyplot as plt\n",
    "from scipy import stats\n",
    "import urllib"
   ]
  },
  {
   "cell_type": "markdown",
   "id": "d09821c6-53d7-48b3-bff7-ac4e439c151d",
   "metadata": {},
   "source": [
    "## 1. Hypothesis testing practice\n",
    "\n",
    "In the first section of HW4, we calculate the annual peak flow for St. Lawrence River. In this practice, we will continue looking at the annual peak flows. We are wondering whether there is a statistically significant change in the mean annual peak flow around Year 1980.\n",
    "\n",
    "A. **Descriptive Plots**: Please do a line plot for the time series of annual peak flow, assigning different color and line styles for 1936-1979 (\"blue\",\"-\" denotes solid line), and 1980-2022 (\"orange\",\"--\" denotes dashed line). \n",
    "\n",
    "B. **Two-sample test** for a change in the mean annual peak flow: Test for statistical significance of the observed change in the mean annual peak flow around 1980.\n",
    "\n",
    "* Use a two sample test, and alpha = 0.05 (95% confidence) and the z-distribution to define the rejection region.\n",
    "\n",
    "* Discuss why using the z-distribution is appropriate here.\n",
    "\n",
    "* Use the two-sample test to compare the data from Year 1980-2022 to the data from Year 1936-1979, accounting for the different sample sizes and sample standard deviations appropriately (remember to use the “pooled standard deviation”).\n",
    "\n",
    "* For your null hypothesis, postulate that the difference between the two means = 0, and state the alternative hypothesis that the difference has changed. (although you don’t know the direction of this change) and state the test statistic you’ll be using.\n",
    "\n",
    "* Can you reject the null hypothesis?\n",
    "\n",
    "* Calculate P after your test.\n",
    "\n",
    "* How does your estimate of P change if your null hypothesis is that the difference in the mean between the two data sets is equal to 5% of the pre-1980 sample mean? (In other words, test with a new null hypothesis: the mean of the second period is 1.05 times the mean of the first period.)"
   ]
  },
  {
   "cell_type": "markdown",
   "id": "3528705c-157e-4b50-b797-919481f7f399",
   "metadata": {},
   "source": [
    "#### Since we practiced it in our last homework, here we provided the annual peak flow time series in the format of dataframe, with the variable name of `st_law_peakflow`"
   ]
  },
  {
   "cell_type": "code",
   "execution_count": null,
   "id": "f168db3e-fced-4cbd-a1e5-44f4bba8a713",
   "metadata": {},
   "outputs": [],
   "source": [
    "args = {\n",
    "    'site_no': '04264331',\n",
    "    'begin_date': '1936-01-01',\n",
    "    'end_date': '2022-12-31'\n",
    "}\n",
    "query = urllib.parse.urlencode(args)\n",
    "verde_url = (\n",
    "    f'https://waterdata.usgs.gov/nwis/dv?'\n",
    "    f'cb_00060=on&format=rdb&referred_module=sw&{query}'\n",
    ")\n",
    "response = urllib.request.urlopen(verde_url)\n",
    "df1 = pd.read_table(\n",
    "    response,\n",
    "    comment='#',\n",
    "    sep='\\s+',\n",
    "    names=['agency', 'site', 'date', 'streamflow', 'quality_flag'],\n",
    "    index_col=2,\n",
    "    parse_dates=True,\n",
    "    date_format='yyyy-mm-dd',\n",
    "    engine='python')\n",
    "# discard the first two rows\n",
    "df1 = df1.iloc[2:]\n",
    "# Now convert the streamflow data to floats and\n",
    "# the index to datetimes. When processing raw data\n",
    "# it's common to have to do some extra postprocessing\n",
    "df1['streamflow'] = df1['streamflow'].astype(np.float64)\n",
    "df1.index = pd.DatetimeIndex(df1.index)\n",
    "\n",
    "# we calculated the annual peak flow for the St Lawrence River\n",
    "st_law_peakflow = df1[['streamflow']].groupby(df1.index.year).max()\n",
    "st_law_peakflow.columns = ['peakflow_cfs']"
   ]
  },
  {
   "cell_type": "code",
   "execution_count": null,
   "id": "c2838c77-7469-4870-ab82-1e5214fc98c3",
   "metadata": {},
   "outputs": [],
   "source": [
    "# INSERT Your code here"
   ]
  }
 ],
 "metadata": {
  "kernelspec": {
   "display_name": "Python [conda env:root] *",
   "language": "python",
   "name": "conda-root-py"
  },
  "language_info": {
   "codemirror_mode": {
    "name": "ipython",
    "version": 3
   },
   "file_extension": ".py",
   "mimetype": "text/x-python",
   "name": "python",
   "nbconvert_exporter": "python",
   "pygments_lexer": "ipython3",
   "version": "3.9.7"
  }
 },
 "nbformat": 4,
 "nbformat_minor": 5
}
