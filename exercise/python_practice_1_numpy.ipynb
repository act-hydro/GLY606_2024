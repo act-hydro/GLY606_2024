{
 "cells": [
  {
   "cell_type": "markdown",
   "id": "c3ac51ba-323c-43f9-9650-b3923fa040a1",
   "metadata": {},
   "source": [
    "# Exercise 1 - Numpy"
   ]
  },
  {
   "cell_type": "code",
   "execution_count": null,
   "id": "6af5ff85-70c6-4747-a281-6dbf6d550cdb",
   "metadata": {},
   "outputs": [],
   "source": [
    "#%%\n",
    "# This script contains exercises on \n",
    "# manipulating arrays with numpy\n",
    "import numpy as np\n",
    "\n",
    "x = np.arange(0, 3**3)\n"
   ]
  },
  {
   "cell_type": "code",
   "execution_count": null,
   "id": "45853659-c888-4d23-94d9-b79d361297e9",
   "metadata": {},
   "outputs": [],
   "source": [
    "#%%\n",
    "# 1. What is the length of x?\n"
   ]
  },
  {
   "cell_type": "code",
   "execution_count": null,
   "id": "f47c2555-da63-4b95-a3f7-5c6321467a7a",
   "metadata": {},
   "outputs": [],
   "source": [
    "#%%\n",
    "# 2. How do you get the first value out of x?\n"
   ]
  },
  {
   "cell_type": "code",
   "execution_count": null,
   "id": "155ab0a9-fcbd-4265-89c0-4a74b7846b18",
   "metadata": {},
   "outputs": [],
   "source": [
    "#%%\n",
    "# 3. How do you get the last value out of x?\n"
   ]
  },
  {
   "cell_type": "code",
   "execution_count": null,
   "id": "90ce04d2-64e8-41b7-96e1-0de960b8e2fb",
   "metadata": {},
   "outputs": [],
   "source": [
    "#%%\n",
    "# 4. How do you get the first 5 values out of x?\n"
   ]
  },
  {
   "cell_type": "code",
   "execution_count": null,
   "id": "59e4105a-9126-4ab6-8947-0c51e8ef1f3a",
   "metadata": {},
   "outputs": [],
   "source": [
    "#%%\n",
    "# 5. What about the last 5 values?\n"
   ]
  },
  {
   "cell_type": "code",
   "execution_count": null,
   "id": "bf101b8d-3204-4c5a-ae81-6edbf7c50475",
   "metadata": {},
   "outputs": [],
   "source": [
    "#%%\n",
    "# 6. How do you get every other value out of x?\n"
   ]
  },
  {
   "cell_type": "code",
   "execution_count": null,
   "id": "4a212745-86ea-4b9e-a583-759252e78d0c",
   "metadata": {},
   "outputs": [],
   "source": [
    "#%%\n",
    "# 7. Get the first 9 values of x, and reshape them to a\n",
    "#    3x3 matrix. Assign this matrix to the variable `y`\n",
    "y = None\n",
    "print(y)\n"
   ]
  },
  {
   "cell_type": "code",
   "execution_count": null,
   "id": "2dc577f7-a34e-47b6-ac84-26f3cee2c90f",
   "metadata": {},
   "outputs": [],
   "source": [
    "#%%\n",
    "# 8. How do you get the middle value out of y?\n",
    "y = np.array([\n",
    "    [0, 1, 2],\n",
    "    [3, 4, 5],\n",
    "    [6, 7, 8],\n",
    "])\n"
   ]
  },
  {
   "cell_type": "code",
   "execution_count": null,
   "id": "fded55fe-f045-4656-b42a-5bf094c15154",
   "metadata": {},
   "outputs": [],
   "source": [
    "#%%\n",
    "# 9. How do you get the first row out of y?\n"
   ]
  },
  {
   "cell_type": "code",
   "execution_count": null,
   "id": "f44134b0-66ab-408a-82c0-227f687786c7",
   "metadata": {},
   "outputs": [],
   "source": [
    "#%%\n",
    "# 10. How do you get the first column out of y?\n"
   ]
  },
  {
   "cell_type": "code",
   "execution_count": null,
   "id": "83a2c097-4590-4354-8156-81f9ecefd75d",
   "metadata": {},
   "outputs": [],
   "source": [
    "#%%\n",
    "# 11. Reshape x into a 3x3x3 cube. Assign this\n",
    "#     to the variable `z`\n",
    "z = None\n",
    "print(z.shape)\n"
   ]
  },
  {
   "cell_type": "code",
   "execution_count": null,
   "id": "8f6b7bbf-f774-4248-8a89-cb74b7de8efc",
   "metadata": {},
   "outputs": [],
   "source": [
    "#%%\n",
    "# 12. How do you get the \"center\" value from z?\n",
    "z = np.array([\n",
    "    [[ 0, 1, 2],\n",
    "     [ 3, 4, 5],\n",
    "     [ 6, 7, 8]],\n",
    "    [[ 9,10,11],\n",
    "     [12,13,14],\n",
    "     [15,16,17]],\n",
    "    [[18,19,20],\n",
    "     [21,22,23],\n",
    "     [24,25,26]]\n",
    "])\n",
    "\n"
   ]
  },
  {
   "cell_type": "code",
   "execution_count": null,
   "id": "d3f9ef34-0c1e-4a87-adab-8aa37e62b2b0",
   "metadata": {},
   "outputs": [],
   "source": [
    "#%%\n",
    "# 13. How do you take the total sum of z?\n"
   ]
  },
  {
   "cell_type": "code",
   "execution_count": null,
   "id": "ed8d4859-59e8-4f70-b0be-c43bf56101c1",
   "metadata": {},
   "outputs": [],
   "source": [
    "#%%\n",
    "# 14. How do you take the sum along the first \n",
    "#     dimension of z?\n"
   ]
  },
  {
   "cell_type": "code",
   "execution_count": null,
   "id": "4e0b539b-71d1-4b04-9eaa-ca52fbc77d14",
   "metadata": {},
   "outputs": [],
   "source": [
    "#%%\n",
    "# 15. How do you take the sum along the last\n",
    "#     dimension of z?\n"
   ]
  }
 ],
 "metadata": {
  "kernelspec": {
   "display_name": "Python 3 (ipykernel)",
   "language": "python",
   "name": "python3"
  },
  "language_info": {
   "codemirror_mode": {
    "name": "ipython",
    "version": 3
   },
   "file_extension": ".py",
   "mimetype": "text/x-python",
   "name": "python",
   "nbconvert_exporter": "python",
   "pygments_lexer": "ipython3",
   "version": "3.9.7"
  }
 },
 "nbformat": 4,
 "nbformat_minor": 5
}
