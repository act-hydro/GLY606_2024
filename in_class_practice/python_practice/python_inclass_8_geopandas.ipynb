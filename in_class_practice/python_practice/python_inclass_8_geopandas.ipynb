{
 "cells": [
  {
   "cell_type": "code",
   "execution_count": null,
   "id": "5d0ebac8-229e-4173-a0fc-54a0dce6e996",
   "metadata": {},
   "outputs": [],
   "source": [
    "%matplotlib inline"
   ]
  },
  {
   "cell_type": "code",
   "execution_count": null,
   "id": "1728dcaf-1c8a-4baf-8351-2cab25dec7d5",
   "metadata": {},
   "outputs": [],
   "source": [
    "import numpy as np\n",
    "import pandas as pd\n",
    "import xarray as xr\n",
    "import matplotlib.pyplot as plt\n",
    "import geopandas as gpd\n",
    "import urllib"
   ]
  },
  {
   "cell_type": "markdown",
   "id": "622385c2-13d7-4e75-9d2a-12b50a86e6f5",
   "metadata": {},
   "source": [
    "# In Class Practice #8: Geopandas\n",
    "\n",
    "### Overall objective of this practice: how many USGS gages are available for each HUC8 basin?\n",
    "---\n",
    "In this practice, we will learn how to use `geopandas` to read and generate shapefiles, conduct basic shapefile manipulations, and plot beautiful maps!</br>"
   ]
  },
  {
   "cell_type": "markdown",
   "id": "b2330e9e-0b1b-424f-ad29-7a46d56fa4cf",
   "metadata": {},
   "source": [
    "# !!! Download the dataset first!!!\n",
    "\n",
    "https://drive.google.com/drive/folders/1bH26iJFwFNSv_1ZJ8gwyktqqkfQXONQD?usp=drive_link"
   ]
  },
  {
   "cell_type": "code",
   "execution_count": null,
   "id": "fe2e993d-b5e9-4021-b890-86a960e7858f",
   "metadata": {},
   "outputs": [],
   "source": [
    "# NOTE: Here we are using \"gpd.read_file(filename)\" to read in\n",
    "# shapefiles\n",
    "\n",
    "# read the geographic boundary of every counties in \n",
    "# NY york state\n",
    "ny = gpd.read_file(\n",
    "    'NY_counties.gpkg'\n",
    ")\n",
    "\n",
    "# read the shapefile files for all HUC-8 level watershed\n",
    "# that touches New York State boundary\n",
    "huc8 = gpd.read_file(\n",
    "    'USGS_HUC8.NY_State.gpkg'\n",
    ")\n",
    "\n",
    "# read the text file that contains all USGS sites in \n",
    "# New York State\n",
    "gages_df = pd.read_csv('gage_site.new_york_state.txt',\n",
    "                        comment='#',sep='\\t')\n"
   ]
  },
  {
   "cell_type": "markdown",
   "id": "86d9520d-ad12-4e5f-b77b-e6f0f1ef6a93",
   "metadata": {},
   "source": [
    "## 0. What does a shapefile look like after we read in it using geopandas?\n",
    "\n",
    "Overall, if you take a look at what `ny` looks like, it is like a pandas framework! </br>\n",
    "Maybe that's why it is called `geopandas` </br>\n",
    "\n",
    "But what's the difference between normal `pandas.dataframe` versus `geopandas dataframe`?\n",
    "* `geopandas dataframe` contains the column **geometry**, which is usually a shapefile, such as a point, a line, or a polygon."
   ]
  },
  {
   "cell_type": "code",
   "execution_count": null,
   "id": "9c2df49f-1107-4763-aee1-f57ac21e051f",
   "metadata": {
    "tags": []
   },
   "outputs": [],
   "source": [
    "ny"
   ]
  },
  {
   "cell_type": "markdown",
   "id": "efe5e310-927c-4954-ac37-381b4bceff53",
   "metadata": {},
   "source": [
    "## 0.1. Quick visualization\n",
    "Additionally, you can also quickly visualize it using `plot` function"
   ]
  },
  {
   "cell_type": "code",
   "execution_count": null,
   "id": "1c1b6226-cfcc-47c0-9462-4d442526fb97",
   "metadata": {},
   "outputs": [],
   "source": [
    "ny.plot()"
   ]
  },
  {
   "cell_type": "markdown",
   "id": "da3fc3a0-c428-4ca2-a1c6-f0c83f439bc8",
   "metadata": {},
   "source": [
    "## 0.2. What's the existing projection for this shapefile?\n",
    "We can use `ny.crs` to examine it. </br>\n",
    "**CRS** is short for A projected coordinate reference system.</br>\n",
    "This projection information looks not familiar! How can we project it to a crs that we are more familiar with? We will show you how to do it below"
   ]
  },
  {
   "cell_type": "code",
   "execution_count": null,
   "id": "7a90e96f-64d1-4743-a0c1-80b7eba01230",
   "metadata": {},
   "outputs": [],
   "source": [
    "ny.crs"
   ]
  },
  {
   "cell_type": "markdown",
   "id": "4e456375-d9c9-47c1-892d-9775feb9af00",
   "metadata": {},
   "source": [
    "## 1.1. Use lat/lon coordinates of USGS sites to generate point-type shapefiles"
   ]
  },
  {
   "cell_type": "code",
   "execution_count": null,
   "id": "0f0f4db3-200d-4c65-abc4-2c6872eb1855",
   "metadata": {},
   "outputs": [],
   "source": [
    "# get rid of the first line \n",
    "gages_df = gages_df.iloc[1:]\n",
    "\n",
    "# convert the latitude/longtiude to numbers\n",
    "gages_df.loc['dec_lat_va',:] = gages_df['dec_lat_va'].astype(np.float32)\n",
    "gages_df.loc['dec_long_va',:] = gages_df['dec_long_va'].astype(np.float32)"
   ]
  },
  {
   "cell_type": "code",
   "execution_count": null,
   "id": "0f880cd8-6e13-4f79-887f-c949f5383fe8",
   "metadata": {},
   "outputs": [],
   "source": [
    "# Create the shapefile of gage locations using latitude/longitude\n",
    "# NOTE: In the coordinates for points, \n",
    "#       x-axis is longitude, y-axis is latitude.\n",
    "\n",
    "gages = gpd.GeoDataFrame(\n",
    "        gages_df, geometry=gpd.points_from_xy(gages_df['dec_long_va'], \n",
    "                                              gages_df['dec_lat_va']), crs = huc8.crs)\n"
   ]
  },
  {
   "cell_type": "markdown",
   "id": "9d00d7fe-6dda-4a86-9de1-933d925d582e",
   "metadata": {},
   "source": [
    "## 1.2. Get New York State boundary by \"dissolving\" the county-level boundaries"
   ]
  },
  {
   "cell_type": "code",
   "execution_count": null,
   "id": "70cfeeb8-f0c3-4f17-8a12-6c8633a8e28d",
   "metadata": {},
   "outputs": [],
   "source": [
    "#%%\n",
    "# The various polygons in the New York State shapefile\n",
    "# are boundaries for counties, and don't really\n",
    "# mean anything as far as the hydrology of NY. So,\n",
    "# let's get rid of them. In GIS-language this is called\n",
    "# \"dissolving\" the polygons. \n",
    "#\n",
    "# Here is to make the `ny` variable be a \n",
    "# geodataframe with only a single geometry.\n",
    "\n",
    "ny = ny.dissolve()\n",
    "ny.plot()"
   ]
  },
  {
   "cell_type": "markdown",
   "id": "32294572-0b9a-48d2-9501-48f96a681f7e",
   "metadata": {},
   "source": [
    "## 1.3. What if we have USGS gage info across the entire US? How can we quickly select the sites within a shapefile?"
   ]
  },
  {
   "cell_type": "code",
   "execution_count": null,
   "id": "c57c8004-0b33-463c-a5df-2d9b2b8f0e34",
   "metadata": {
    "tags": []
   },
   "outputs": [],
   "source": [
    "#%%\n",
    "# Pull out only the gages in NY from \n",
    "# the `gages` dataset, save this as `ny_gages`\n",
    "# In GIS-language this is called \"clipping\" \n",
    "\n",
    "ny_gages = gages.clip(ny)\n",
    "ny_gages.plot()\n"
   ]
  },
  {
   "cell_type": "markdown",
   "id": "7b114d14-acee-49b4-98ba-e30769ec88f7",
   "metadata": {},
   "source": [
    "## Oh no! The code above does not work? Why is that?\n",
    "The CRS of `ny_gages` and `ny` are different! So, let's convert the `CRS` of `ny` "
   ]
  },
  {
   "cell_type": "code",
   "execution_count": null,
   "id": "814270b8-0808-4d45-a8cb-065f9593ca88",
   "metadata": {},
   "outputs": [],
   "source": [
    "ny = ny.to_crs(huc8.crs)"
   ]
  },
  {
   "cell_type": "markdown",
   "id": "3086e407-4fa3-4ed5-900b-88f31f09fb1e",
   "metadata": {},
   "source": [
    "### Let's try it one more time!"
   ]
  },
  {
   "cell_type": "code",
   "execution_count": null,
   "id": "aa8b1c25-6cb2-4369-903b-94c62298845c",
   "metadata": {},
   "outputs": [],
   "source": [
    "ny_gages = gages.clip(ny)\n",
    "ny_gages.plot()"
   ]
  },
  {
   "cell_type": "markdown",
   "id": "268b3a5e-d832-44e8-8579-a1788a198e2e",
   "metadata": {},
   "source": [
    "## 1.4. Basic visualization!"
   ]
  },
  {
   "cell_type": "code",
   "execution_count": null,
   "id": "290219c7-707c-45dc-9946-963fbd31321c",
   "metadata": {},
   "outputs": [],
   "source": [
    "# Make a plot showing NY State in \"lightgrey\"\n",
    "# and the locations of the gages in Arizona plotted as\n",
    "# \"crimson\" colored points.\n",
    "# NOTE: Calling `.plot` on a geodataframe will return \n",
    "#       a new axis object which can be passed to \n",
    "#       subsequent plot commands \n",
    "\n",
    "# NOTE: You might try setting `markersize=3` or similar\n",
    "#       when you are plotting the gages, so that it's \n",
    "#       easier to see them.\n",
    "\n",
    "ax = ny.plot(color='lightgrey')\n",
    "ny_gages.plot(color='crimson', ax=ax, markersize=3)"
   ]
  },
  {
   "cell_type": "markdown",
   "id": "e7c67115-104a-4aca-a4ad-5bb412c605ec",
   "metadata": {},
   "source": [
    "## 1.4.1. What if we want to change the CRS of this map?\n",
    "\n",
    "Here we can introduce the package `cartopy`, a Python package designed for geospatial data processing in order to produce maps and other geospatial data analyses. </br>\n",
    "The function `cartopy.crs` contains a large collection of CRS, that should suffice most plotting needs!</br>\n",
    "In addition, we will also use `pyproj`, a Python interface to PROJ (cartographic projections and coordinate transformations library).\n",
    "\n",
    "\n"
   ]
  },
  {
   "cell_type": "code",
   "execution_count": null,
   "id": "d795f021-66b7-427a-b1db-73fb1ef38427",
   "metadata": {},
   "outputs": [],
   "source": [
    "import cartopy.crs as ccrs\n",
    "import pyproj"
   ]
  },
  {
   "cell_type": "code",
   "execution_count": null,
   "id": "a6e65703-62f4-464f-a1bf-beb425179072",
   "metadata": {},
   "outputs": [],
   "source": [
    "plt.figure(dpi=150)\n",
    "\n",
    "# 1. define the targeted CRS\n",
    "proj1 = ccrs.Mercator(central_longitude=-76)\n",
    "\n",
    "# 2. create an `plt.axes` using the targeted projection information\n",
    "ax = plt.axes(projection=proj1)\n",
    "\n",
    "# 3. convert the shapefile to the targeted CRS\n",
    "# Let me explain a bit more about the options in \n",
    "# plotting function\n",
    "# zorder: the rank of each layer. Layers with lower number means this\n",
    "#         layer can possibly be covered by other layers\n",
    "# linewidth: the line width of boundary\n",
    "# we can specify both edge color and facecolors for the polygons!\n",
    "# If we want transparent, we can specify the number as \"none\".\n",
    "ny.to_crs(pyproj.CRS(proj1.proj4_params)).plot(ax=ax,\n",
    "                                               zorder=0,\n",
    "                                               linewidth=2, \n",
    "                                               edgecolor='none',\n",
    "                                               facecolor='lightgrey')\n",
    "ny_gages.to_crs(pyproj.CRS(proj1.proj4_params)).plot(ax=ax,\n",
    "                                                     zorder=1,\n",
    "                                                     facecolor='crimson', \n",
    "                                                     edgecolor='yellow',\n",
    "                                                     linewidth=0.6,\n",
    "                                                     markersize=8)\n",
    "\n",
    "# here we can also add the coastlines in the basemap\n",
    "ax.coastlines(linewidth=0.5, color='k', zorder=1)\n"
   ]
  },
  {
   "cell_type": "markdown",
   "id": "6ef587f7-8264-49e1-bfd0-3dac0d1a9013",
   "metadata": {},
   "source": [
    "## What if we change the CRS to `Plate Carree`?"
   ]
  },
  {
   "cell_type": "code",
   "execution_count": null,
   "id": "6b88a030-d5eb-49ff-a3a8-809c3672fc9e",
   "metadata": {},
   "outputs": [],
   "source": [
    "proj2 = ccrs.PlateCarree()"
   ]
  },
  {
   "cell_type": "code",
   "execution_count": null,
   "id": "4121d78f-ba02-45d6-8969-fa6a38f0aa33",
   "metadata": {},
   "outputs": [],
   "source": [
    "plt.figure(dpi=150)\n",
    "# note: from here, we changed the CRS for all relevant codes\n",
    "#       proj1 -> proj2\n",
    "ax = plt.axes(projection=proj2)\n",
    "ny.to_crs(pyproj.CRS(proj2.proj4_params)).plot(ax=ax,\n",
    "                                               zorder=0,\n",
    "                                               linewidth=2, \n",
    "                                               edgecolor='none',\n",
    "                                               facecolor='lightgrey')\n",
    "ny_gages.to_crs(pyproj.CRS(proj2.proj4_params)).plot(ax=ax,\n",
    "                                                     zorder=1,\n",
    "                                                     facecolor='crimson', \n",
    "                                                     edgecolor='yellow',\n",
    "                                                     linewidth=0.6,\n",
    "                                                     markersize=8)\n",
    "ax.coastlines(linewidth=0.5, color='k', zorder=1)"
   ]
  },
  {
   "cell_type": "markdown",
   "id": "086aff16-8747-4174-a3d0-8addb2b3a83a",
   "metadata": {},
   "source": [
    "### Compare this map with the previous one, did you see any differences?\n",
    "### Which one do you prefer more?\n",
    "\n",
    "In all exercise below, we will stick with the Mercator `proj1`"
   ]
  },
  {
   "cell_type": "markdown",
   "id": "a9aab6cf-d885-45cd-9c36-bf2563065809",
   "metadata": {},
   "source": [
    "## 1.5. Practice add HUC 8 boundaries in the map!"
   ]
  },
  {
   "cell_type": "code",
   "execution_count": null,
   "id": "4272e7ec-8438-4f44-9ff4-2792edc734d0",
   "metadata": {},
   "outputs": [],
   "source": [
    "# %%\n",
    "# I also gave you a dataset of watershed\n",
    "# boundaries (called HUCs, for hydrologic unit code).\n",
    "# I gave you the \"level 8\" units, where a smaller unit\n",
    "# level means a larger spatial aggregation, and a larger\n",
    "# code is more fine-scaled. This is stored in the variable \n",
    "# `huc8`. \n",
    "#\n",
    "# Bottom layer: the huc8 boundaries with facecolor in\"lightgrey\",\n",
    "#               edgecolor in \"white\"\n",
    "# Middle layer: the black outline of New York State Boundary \"ny\" on top\n",
    "#               of the bottom layer, with \"transparent\" facecolor.\n",
    "# Top layer: plot the gages contained in New York again as \"crimson\"\n",
    "# points (no need to add yellow boundaries)\n",
    "# \n",
    "# We will use \"zorders\" to decide the layer orders"
   ]
  },
  {
   "cell_type": "markdown",
   "id": "2365d10d-4bbb-4b11-a92b-4592d36a0251",
   "metadata": {},
   "source": [
    "## 1.6. Can we highlight the location of Niagara River gage?"
   ]
  },
  {
   "cell_type": "markdown",
   "id": "7e897009-63dc-45f3-bd24-a30f96a729eb",
   "metadata": {},
   "source": [
    "### 1.6.1. Locate the niagara_gage using station names"
   ]
  },
  {
   "cell_type": "code",
   "execution_count": null,
   "id": "a7afb1fc-4ba7-42b4-985f-59003240ee05",
   "metadata": {},
   "outputs": [],
   "source": [
    "# For this step, I want you to plot the location\n",
    "# of the Niagara River gage that we've been using as an example. \n",
    "# \n",
    "# To do this, first find the row where # the `'station_nm'` \n",
    "# column of `ny_gages` is equal to # the `name` variable. \n",
    "# Then use that information to select out only the Niagara\n",
    "# river gage into the variable `niagara_gage`.\n",
    "#\n",
    "# The resulting plot should put a big star where the \n",
    "# gage location is. All other gages in New York will\n",
    "# still appear as dots.\n",
    "name = \"NIAGARA RIVER AT BUFFALO NY\"\n",
    "is_the_gage = ny_gages['station_nm'] == name\n",
    "\n",
    "# Found solution : \n",
    "#  https://stackoverflow.com/questions/17071871/how-do-i-select-rows-from-a-dataframe-based-on-column-values\n",
    "niagara_gage = ny_gages.loc[is_the_gage]"
   ]
  },
  {
   "cell_type": "markdown",
   "id": "61368872-c202-4604-be4f-e8bf10810bfa",
   "metadata": {},
   "source": [
    "### 1.6.2. Plot"
   ]
  },
  {
   "cell_type": "code",
   "execution_count": null,
   "id": "b3506b58-3341-4f51-83ca-cbfa947c2dc5",
   "metadata": {},
   "outputs": [],
   "source": [
    "# Plotting code\n",
    "# This could be useful for your future project\n",
    "plt.figure(dpi=150)\n",
    "ax = plt.axes(projection=proj1)\n",
    "ny.to_crs(pyproj.CRS(proj1.proj4_params)).plot(ax=ax,\n",
    "                                               zorder=1,\n",
    "                                               linewidth=2, \n",
    "                                               edgecolor='k',\n",
    "                                               facecolor='none')\n",
    "ny_gages.to_crs(pyproj.CRS(proj1.proj4_params)).plot(ax=ax,\n",
    "                                                     zorder=2,\n",
    "                                                     facecolor='rosybrown', \n",
    "                                                     edgecolor='none',\n",
    "                                                     linewidth=0.6,\n",
    "                                                     markersize=8)\n",
    "huc8.to_crs(pyproj.CRS(proj1.proj4_params)).plot(ax=ax,\n",
    "                                                     zorder=0,\n",
    "                                                     facecolor='lightgrey', \n",
    "                                                     edgecolor='white',\n",
    "                                                     linewidth=0.6)\n",
    "\n",
    "# Note: here we can customize the marker\n",
    "# marker: this can be used to change the scatter shape\n",
    "# markersize: this can be used to change the size of the scatter\n",
    "niagara_gage.to_crs(pyproj.CRS(proj1.proj4_params)).plot(ax=ax,\n",
    "                                                         zorder=3,\n",
    "                                                         marker='*',\n",
    "                                                         markersize=100,\n",
    "                                                         facecolor='crimson', \n",
    "                                                         edgecolor='white',\n",
    "                                                         linewidth=0.6)\n",
    "ax.coastlines(linewidth=0.5, color='k', zorder=1)\n"
   ]
  },
  {
   "cell_type": "markdown",
   "id": "0fea1ff4-8446-4b22-969e-5d075f6792dd",
   "metadata": {},
   "source": [
    "## 1.7. Let's combine the knowledge about downloading streamflow data from USGS!\n",
    "### 1.7.1. Summarize the code for downloading USGS datasets into a function!"
   ]
  },
  {
   "cell_type": "code",
   "execution_count": null,
   "id": "12f1ea0f-9014-43af-a3f3-3b6fd4408d6e",
   "metadata": {},
   "outputs": [],
   "source": [
    "#%%\n",
    "# Now let's combine this with our knowledge\n",
    "# about downloading streamflow data from USGS!\n",
    "# \n",
    "# I've provided you with the functions for downloading\n",
    "# data that we've used in the past. You don't have to\n",
    "# do anything for this step.\n",
    "def create_usgs_url(site_no, begin_date, end_date):\n",
    "    return (\n",
    "        f'https://waterdata.usgs.gov/nwis/dv?'\n",
    "        f'cb_00060=on&format=rdb&referred_module=sw&'\n",
    "        f'site_no={site_no}&'\n",
    "        f'begin_date={begin_date}&'\n",
    "        f'end_date={end_date}'\n",
    "    )\n",
    "\n",
    "def open_usgs_data(site, begin_date, end_date):\n",
    "    url = create_usgs_url((site), begin_date, end_date)\n",
    "    response = urllib.request.urlopen(url)\n",
    "    df = pd.read_table(\n",
    "        response,\n",
    "        comment='#',\n",
    "        sep='\\s+',\n",
    "        names=['agency', 'site', 'date', 'streamflow', 'quality_flag'],\n",
    "        index_col=2,\n",
    "        parse_dates=True,\n",
    "        date_format='yyyy-mm-dd',\n",
    "        engine='python'\n",
    "    ).iloc[2:]\n",
    "\n",
    "    # Now convert the streamflow data to floats and\n",
    "    # the index to datetimes. When processing raw data\n",
    "    # it's common to have to do some extra postprocessing\n",
    "    df['streamflow'] = df['streamflow'].astype(np.float64)\n",
    "    df.index = pd.DatetimeIndex(df.index)\n",
    "    return df\n"
   ]
  },
  {
   "cell_type": "markdown",
   "id": "f589ffff-8e13-4344-8966-957f52f554e9",
   "metadata": {},
   "source": [
    "### 1.7.2. Download the flow data for Niagara River"
   ]
  },
  {
   "cell_type": "code",
   "execution_count": null,
   "id": "1362e1b3-b636-4638-b114-00baa46f274b",
   "metadata": {},
   "outputs": [],
   "source": [
    "#%%\n",
    "# Now pull out the site id from the `niagara_gage`\n",
    "# variable. This is contained in the `'site_no'` column, which\n",
    "# stands for \"Station ID\". Put this into the variable \n",
    "# `station_id`\n",
    "#\n",
    "# Success on this one shoul just print out the first 5\n",
    "# streamflow values for the Niagara River in Buffalo NY.\n",
    "begin_date = '2012-10-01'\n",
    "end_date = '2023-09-30'\n",
    "\n",
    "station_id = niagara_gage['site_no']\n",
    "\n",
    "site = station_id.values[0]\n",
    "niagara_df = open_usgs_data(site, begin_date, end_date)\n",
    "niagara_df.head()"
   ]
  },
  {
   "cell_type": "markdown",
   "id": "0bdbd9ce-fa80-4cab-bcb2-2d952d8c7a2f",
   "metadata": {},
   "source": [
    "### 1.7.3. Practice: Download the flow data for Cayuga River"
   ]
  },
  {
   "cell_type": "code",
   "execution_count": null,
   "id": "c402f556-2181-44d2-b8b4-46f0c907f846",
   "metadata": {},
   "outputs": [],
   "source": [
    "#%% \n",
    "# Now try pulling out a different gage location\n",
    "# using it's name and download the USGS data for the \n",
    "# same time period as the `niagara_df`. Put this one in\n",
    "# `other_gage_df`. Compare the two location's mean\n",
    "# streamflows by printing them out.\n",
    "\n",
    "# The station name for Cayuga River is: \n",
    "#        \"CAYUGA CREEK NEAR LANCASTER NY\"\n",
    "\n",
    "# Example code from 1.6.2.: to locate Cayuga River gage\n",
    "station_name = 'CAYUGA CREEK NEAR LANCASTER NY'\n",
    "# TODO: INSERT your code here\n",
    "\n",
    "# Example code from 1.7.2.: to download the data\n",
    "# TODO: INSERT your code here\n",
    "\n",
    "# print the mean flow\n",
    "print(\"The mean flow for %s is %0.2f cfs\"%(name,niagara_df['streamflow'].mean()))\n",
    "print(\"The mean flow for %s is %0.2f cfs\"%(station_name,other_gage_df['streamflow'].mean()))\n"
   ]
  },
  {
   "cell_type": "markdown",
   "id": "1430a942-5e6b-4612-8f16-24e3286ed7bb",
   "metadata": {},
   "source": [
    "## 1.8. How can we count the number of gages within each HUC8 basin?"
   ]
  },
  {
   "cell_type": "code",
   "execution_count": null,
   "id": "0eb6748e-abe4-48df-ab24-244a50fc6bd4",
   "metadata": {},
   "outputs": [],
   "source": [
    "# From our original plots of the spatial\n",
    "# distribution of gages it was clear that surface\n",
    "# water access in New York is uneven. For this \n",
    "# exercise I want you to count the number of gages\n",
    "# in New York for each of the HUC8 boundaries. \n",
    "# \n",
    "# To do this you'll have to iterate over the `huc8`\n",
    "# variable using the `huc8.iterrows()` function, which\n",
    "# basically loops over each row of the dataframe. \n",
    "# Instead of giving you just the row, it also gives \n",
    "# you the row column, which is why I have put `i, huc`\n",
    "# in the for loop. `i` will keep track of the row number\n",
    "# and `huc` will be the actual data from the row.\n",
    "#\n",
    "# I've got you started on the loop, but your next step\n",
    "# is to \"clip\" from `az_gages` the \"geometry\" from the \n",
    "# `huc`. Then, count how many gages are in this selection\n",
    "# by using the `len` function. Append the result of this\n",
    "# to the `number_gages_in_huc` list.\n",
    "\n",
    "number_gages_in_huc = []\n",
    "for i, huc in huc8.iterrows():\n",
    "    clipped_gages = ny_gages.clip(huc.geometry)\n",
    "    #print(i, huc['name'], len(clipped_gages))\n",
    "    number_gages_in_huc.append(len(clipped_gages))\n",
    "\n",
    "huc8['number_gauges'] = number_gages_in_huc"
   ]
  },
  {
   "cell_type": "code",
   "execution_count": null,
   "id": "c9b48f1c-0f45-4194-a360-7d9acf7d08a0",
   "metadata": {},
   "outputs": [],
   "source": [
    "# Finally, plot the number of gages in\n",
    "# each HUC - and don't forget to set `add_legend=True`!\n",
    "# Use the colormap \"Blues\", and also plot the Arizona\n",
    "# outline on top\n",
    "plt.figure(dpi=150)\n",
    "ax = plt.axes(projection=proj1)\n",
    "\n",
    "huc8.to_crs(pyproj.CRS(proj1.proj4_params)).plot(ax=ax,\n",
    "                                                 column='number_gauges', \n",
    "                                                 cmap='Blues', \n",
    "                                                 legend=True)\n",
    "ny.to_crs(pyproj.CRS(proj1.proj4_params)).plot(ax=ax, \n",
    "                                               facecolor='none', \n",
    "                                               edgecolor='black')"
   ]
  },
  {
   "cell_type": "markdown",
   "id": "4eda8e8f-e53e-4a32-8940-50f259f5db3d",
   "metadata": {},
   "source": [
    "# 2. A little bit more fancier plotting exercise"
   ]
  },
  {
   "cell_type": "markdown",
   "id": "90470c41-d903-4427-b7a2-a20e328cda29",
   "metadata": {},
   "source": [
    "### 2.1. Discrete colormaps?\n",
    "We can clearly see that the color distributions in Exercises are dominated by one outlier. </br>\n",
    "So we would like to create a discrete colormaps using uneven distributed bins! </br>\n",
    "How can we do it?"
   ]
  },
  {
   "cell_type": "code",
   "execution_count": null,
   "id": "2a6a3066-2010-41a6-a1a8-89fb45a83145",
   "metadata": {},
   "outputs": [],
   "source": [
    "# let's first look at the distribution of gauge numbers\n",
    "# we plan to use histogram to look at it\n",
    "plt.hist(huc8['number_gauges'])"
   ]
  },
  {
   "cell_type": "code",
   "execution_count": null,
   "id": "3fc6761e-54bf-4fb2-9adf-3c4039fd539c",
   "metadata": {},
   "outputs": [],
   "source": [
    "import matplotlib as mpl\n",
    "\n",
    "# first, let's stick with the blues colormap\n",
    "cmap_blues = mpl.colormaps.get_cmap('Blues')\n",
    "\n",
    "# second, let's define the bins\n",
    "# sometimes, we do not need to know the exact number of gages,\n",
    "# we tend to know the ranges for each region\n",
    "bounds_num_gage = [0,1,5,10,20,30,50,70]\n",
    "\n",
    "# let's define the colors for each bin\n",
    "# first of all, we can use camp_blues(number) to select \n",
    "#               colors within each colormap!\n",
    "#               number ranges from 0 to 1. \n",
    "# Second, number of colors = len(bounds_num_gage)-1\n",
    "color_num_gage_list = [cmap_blues((i+1)/len(bounds_num_gage)) for i in range(len(bounds_num_gage)-1)]\n",
    "\n",
    "# assign the colors for each bin\n",
    "cmap_num_gage = mpl.colors.ListedColormap(color_num_gage_list)\n",
    "norm_num_gage = mpl.colors.BoundaryNorm(bounds_num_gage, len(color_num_gage_list))\n"
   ]
  },
  {
   "cell_type": "code",
   "execution_count": null,
   "id": "6aea7b7e-84e6-4393-a4d9-5c50f6dccc05",
   "metadata": {},
   "outputs": [],
   "source": [
    "plt.figure(dpi=150)\n",
    "ax = plt.axes(projection=proj1)\n",
    "\n",
    "huc8.to_crs(pyproj.CRS(proj1.proj4_params)).plot(ax=ax,\n",
    "                                                 column='number_gauges', \n",
    "                                                 cmap=cmap_num_gage,\n",
    "                                                 norm=norm_num_gage,\n",
    "                                                 legend=True,\n",
    "                                                 edgecolor='gray',\n",
    "                                                 linewidth=0.4)\n",
    "ny.to_crs(pyproj.CRS(proj1.proj4_params)).plot(ax=ax, \n",
    "                                               facecolor='none', \n",
    "                                               edgecolor='black')\n",
    "ax.coastlines(linewidth=0.5, color='k', zorder=1)\n"
   ]
  },
  {
   "cell_type": "markdown",
   "id": "b9719c58-ca7d-49bd-8241-af429cba82b8",
   "metadata": {},
   "source": [
    "## 2.2. Add gridlines"
   ]
  },
  {
   "cell_type": "code",
   "execution_count": null,
   "id": "c56d088d-5d8b-4798-9ad2-bd5044383b4b",
   "metadata": {},
   "outputs": [],
   "source": [
    "import matplotlib.ticker as mticker\n",
    "from cartopy.mpl.gridliner import LongitudeFormatter, LatitudeFormatter"
   ]
  },
  {
   "cell_type": "code",
   "execution_count": null,
   "id": "635430f5-1621-4716-8536-7cfcff484bba",
   "metadata": {},
   "outputs": [],
   "source": [
    "plt.figure(dpi=150)\n",
    "ax = plt.axes(projection=proj1)\n",
    "\n",
    "huc8.to_crs(pyproj.CRS(proj1.proj4_params)).plot(ax=ax,\n",
    "                                                 column='number_gauges', \n",
    "                                                 cmap=cmap_num_gage,\n",
    "                                                 norm=norm_num_gage,\n",
    "                                                 legend=True,\n",
    "                                                 edgecolor='gray',\n",
    "                                                 linewidth=0.4)\n",
    "ny.to_crs(pyproj.CRS(proj1.proj4_params)).plot(ax=ax, \n",
    "                                               facecolor='none', \n",
    "                                               edgecolor='black')\n",
    "ax.coastlines(linewidth=0.5, color='k', zorder=1)\n",
    "\n",
    "# Codes above are from Section 2.1.\n",
    "# Codes below are for creating the gridlines\n",
    "# dms: When default longitude and latitude locators and formatters are\n",
    "#      used, ticks are able to stop on minutes and seconds if minutes is\n",
    "#      set to True, and not fraction of degrees.\n",
    "gl = ax.gridlines(draw_labels=True,\n",
    "                  dms=True,\n",
    "                  x_inline=False, \n",
    "                  y_inline=False,\n",
    "                  linewidth=0.5, \n",
    "                  color='k', \n",
    "                  alpha=0.5, \n",
    "                  linestyle='--', \n",
    "                  zorder=4)\n",
    "\n",
    "# decide the locations of the latitude/longitude labels will be \n",
    "# in top/bottom or left/right.\n",
    "gl.top_labels = False\n",
    "gl.right_labels = False\n",
    "gl.left_labels = True\n",
    "gl.bottom_labels = True\n",
    "\n",
    "# The specific lat/lon grid lines\n",
    "gl.xlocator = mticker.FixedLocator([-84,-80,-76,-72])\n",
    "gl.ylocator = mticker.FixedLocator([40,42,44,46])\n",
    "\n",
    "# whether we want to rotate the lat/lon label\n",
    "gl.ylabel_style = {'rotation': 0}\n",
    "gl.xlabel_style = {'rotation': 0}"
   ]
  },
  {
   "cell_type": "markdown",
   "id": "8ca184d8-54cd-448d-b65f-fdd945e72b93",
   "metadata": {},
   "source": [
    "## 2.3. What is we want to add some background (basemap) for the map?\n",
    "\n",
    "Here we can simply using `ax.stock_img()`, which is the default basemap that is embedded in the package `cartopy`.\n",
    "\n",
    "However, it is important to note that we will need to define the extent of the map using `set_extent`, when we use `ax.stock_img()` option. Otherwise, it will plot the map for entire globe."
   ]
  },
  {
   "cell_type": "code",
   "execution_count": null,
   "id": "a3ba6326-2f09-4ea3-8987-617d6b2ba64a",
   "metadata": {},
   "outputs": [],
   "source": [
    "plt.figure(dpi=150)\n",
    "ax = plt.axes(projection=proj1)\n",
    "\n",
    "# load the backgruond map\n",
    "ax.stock_img()\n",
    "\n",
    "# set the extent of the map\n",
    "# [lon_min, lon_max, lat_min, lat_max]\n",
    "ax.set_extent([-84,-71,39,47])\n",
    "\n",
    "# below codes are identical to codes in Section 2.2.\n",
    "huc8.to_crs(pyproj.CRS(proj1.proj4_params)).plot(ax=ax,\n",
    "                                                 column='number_gauges', \n",
    "                                                 cmap=cmap_num_gage,\n",
    "                                                 norm=norm_num_gage,\n",
    "                                                 legend=True,\n",
    "                                                 edgecolor='gray',\n",
    "                                                 linewidth=0.4)\n",
    "ny.to_crs(pyproj.CRS(proj1.proj4_params)).plot(ax=ax, \n",
    "                                               facecolor='none', \n",
    "                                               edgecolor='black')\n",
    "ax.coastlines(linewidth=0.5, color='k', zorder=1)\n"
   ]
  },
  {
   "cell_type": "markdown",
   "id": "7ec94d85-5d1b-40cd-b0e4-4decf055eb83",
   "metadata": {},
   "source": [
    "## 2.4. The basemap resolution is so low! Maybe we should just specify one green-ish color for land and one blue-ish color for the ocean!\n",
    "\n",
    "Here we used a cartopy function, called `cartopy.feature`.\n",
    "\n",
    "To simplify some very common cases, some pre-defined Features exist as cartopy.feature constants. The pre-defined Features are all small-scale (1:110m) Natural Earth datasets, and can be added with methods such as GeoAxes.add_feature:\n",
    "\n",
    "**Name      (Description)**\n",
    "\n",
    "cartopy.feature.BORDERS *(Country boundaries.)*\n",
    "\n",
    "cartopy.feature.COASTLINE *(Coastline, including major islands.)*\n",
    "\n",
    "cartopy.feature.LAKES *(Natural and artificial lakes.)*\n",
    "\n",
    "cartopy.feature.LAND *(Land polygons, including major islands.)*\n",
    "\n",
    "cartopy.feature.OCEAN *(Ocean polygons.)*\n",
    "\n",
    "cartopy.feature.RIVERS *(Single-line drainages, including lake centerlines.)*\n"
   ]
  },
  {
   "cell_type": "code",
   "execution_count": null,
   "id": "b76ff491-9755-4247-bf8e-07b97327a84f",
   "metadata": {},
   "outputs": [],
   "source": [
    "import cartopy.feature as cfeature"
   ]
  },
  {
   "cell_type": "code",
   "execution_count": null,
   "id": "9fa13efd-a44a-49be-a54d-9d0bc7eb73d9",
   "metadata": {},
   "outputs": [],
   "source": [
    "plt.figure(dpi=150)\n",
    "ax = plt.axes(projection=proj1)\n",
    "# below codes are identical to codes in Section 2.2.\n",
    "huc8.to_crs(pyproj.CRS(proj1.proj4_params)).plot(ax=ax,\n",
    "                                                 column='number_gauges', \n",
    "                                                 cmap=cmap_num_gage,\n",
    "                                                 norm=norm_num_gage,\n",
    "                                                 legend=True,\n",
    "                                                 edgecolor='gray',\n",
    "                                                 linewidth=0.4, zorder=2)\n",
    "ny.to_crs(pyproj.CRS(proj1.proj4_params)).plot(ax=ax, \n",
    "                                               facecolor='none', \n",
    "                                               edgecolor='black', zorder=3)\n",
    "\n",
    "ax.coastlines(linewidth=0.5, color='k', zorder=4)\n",
    "\n",
    "# Here we added colors for land and ocean\n",
    "ax.add_feature(cfeature.LAND,zorder=1,facecolor=\"#E4E5BB\")\n",
    "ax.add_feature(cfeature.OCEAN,zorder=1,facecolor=\"#5E819D\")"
   ]
  },
  {
   "cell_type": "markdown",
   "id": "dd85a5ba-70b0-47bc-a02b-5fc6a2af9556",
   "metadata": {},
   "source": [
    "### final remarks: please carefully review the order of each layer (zorder) above. Does this rank make sense to you?"
   ]
  },
  {
   "cell_type": "code",
   "execution_count": null,
   "id": "58f81d15-b7b7-4084-9113-66c27e7abd78",
   "metadata": {},
   "outputs": [],
   "source": []
  }
 ],
 "metadata": {
  "kernelspec": {
   "display_name": "Python [conda env:root] *",
   "language": "python",
   "name": "conda-root-py"
  },
  "language_info": {
   "codemirror_mode": {
    "name": "ipython",
    "version": 3
   },
   "file_extension": ".py",
   "mimetype": "text/x-python",
   "name": "python",
   "nbconvert_exporter": "python",
   "pygments_lexer": "ipython3",
   "version": "3.9.7"
  }
 },
 "nbformat": 4,
 "nbformat_minor": 5
}
