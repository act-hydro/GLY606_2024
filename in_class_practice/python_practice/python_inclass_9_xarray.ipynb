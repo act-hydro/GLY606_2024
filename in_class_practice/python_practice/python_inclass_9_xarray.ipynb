{
 "cells": [
  {
   "cell_type": "code",
   "execution_count": null,
   "id": "e7b3f3a1-4f3f-4a66-b129-a8ee4b398da5",
   "metadata": {},
   "outputs": [],
   "source": [
    "%matplotlib inline"
   ]
  },
  {
   "cell_type": "code",
   "execution_count": null,
   "id": "9fc10a48-feaf-4e87-bf32-15deed51ab70",
   "metadata": {},
   "outputs": [],
   "source": [
    "import numpy as np\n",
    "import pandas as pd\n",
    "import xarray as xr\n",
    "import matplotlib.pyplot as plt\n",
    "import geopandas as gpd\n",
    "import urllib\n",
    "import xarray as xr"
   ]
  },
  {
   "cell_type": "markdown",
   "id": "073ce8af-d374-4efa-8216-72ebdb3edb35",
   "metadata": {},
   "source": [
    "# In Class Practice #9: Xarray\n",
    "---\n",
    "In this practice, we will learn how to use `xarray` to generate `DataArray` and `DataSet`, conduct basic data analysis, and learn about visualization!\n",
    "\n",
    "\n",
    "# !!! Download the data first!!!\n",
    "https://drive.google.com/drive/folders/1CgrxWaIGJjlHrv2ITiRqW4T1YybdTSip?usp=sharing\n",
    "\n",
    "### Today, we are going to learn how to use real-world data, the ERA5 dataset!\n",
    "ERA5 is short for ECMWF Reanalysis v5. </br>\n",
    "ERA5 is the fifth generation ECMWF atmospheric reanalysis of the global climate covering the period from January 1940 to present. ERA5 is produced by the Copernicus Climate Change Service (C3S) at ECMWF. </br>\n",
    "ERA5 provides hourly estimates of a large number of atmospheric, land and oceanic climate variables. The data cover the Earth on a 31km grid and resolve the atmosphere using 137 levels from the surface up to a height of 80km. ERA5 includes information about uncertainties for all variables at reduced spatial and temporal resolutions. </br>"
   ]
  },
  {
   "cell_type": "markdown",
   "id": "d1f24672-c4d5-468a-9c69-060a76ebd23d",
   "metadata": {},
   "source": [
    "# NOTE: We have a total of **5** practices in this training, including [#3.2.](#3.2.), [#5.1](#5.1.), [#5.3.1.](#5.3.1), [#6.1.](#6.1.), [#7.1.](#7.1.)"
   ]
  },
  {
   "cell_type": "markdown",
   "id": "f77448e5-a936-49b5-820d-2ad8fc6b2136",
   "metadata": {},
   "source": [
    "# 0. Before we dive into the real data, let's first learn how to create data array!\n",
    "First, let us learn how to generate `DataArray` and `DataSet`!"
   ]
  },
  {
   "cell_type": "code",
   "execution_count": null,
   "id": "f9165ab1-6b54-43b4-89a4-03c30ae97e46",
   "metadata": {},
   "outputs": [],
   "source": [
    "# let's first generate a random 3d dataset\n",
    "\n",
    "# we assume this is a 365-day precipitation data\n",
    "# for a domain (latitutde dimenion: 5, \n",
    "#               longitude dimension: 21)\n",
    "numpy_array = np.random.rand(365,5,21)\n",
    "\n",
    "# Let's first prepare the coordinates for each\n",
    "# dataset\n",
    "date_list = pd.date_range(\"2023-01-01\",periods=365,freq='1D')\n",
    "lat = np.linspace(40,41,5)\n",
    "lon = np.linspace(-94,-90,21)"
   ]
  },
  {
   "cell_type": "code",
   "execution_count": null,
   "id": "d9b2321a-97db-44c1-8cf3-38fb0641aadf",
   "metadata": {},
   "outputs": [],
   "source": [
    "# let's generate data array\n",
    "# Please note: we need three elements to generate \n",
    "# a meaningful DataArray\n",
    "# 1. N-D numpy data array or list\n",
    "# 2. dimension names\n",
    "# 3. coordinates for each dimensions (if not specified, it will be numeric, i.e., 0,1,2,...)\n",
    "da = xr.DataArray(numpy_array, \n",
    "                  dims=['time','lat','lon'],\n",
    "                  coords={'time':date_list,\n",
    "                          'lat':lat,\n",
    "                          'lon':lon})"
   ]
  },
  {
   "cell_type": "code",
   "execution_count": null,
   "id": "4755daca-4a6d-496c-bbc2-9a738df6612d",
   "metadata": {},
   "outputs": [],
   "source": [
    "da"
   ]
  },
  {
   "cell_type": "markdown",
   "id": "0177a226-5e59-4ab0-b392-1d89e833b629",
   "metadata": {},
   "source": [
    "## 0.1 How can we generate a Dataset?"
   ]
  },
  {
   "cell_type": "code",
   "execution_count": null,
   "id": "224fa8a6-70e6-467d-9e64-686e5b3de48c",
   "metadata": {},
   "outputs": [],
   "source": [
    "# Once we have a data array, we can simply create \n",
    "# a dataset using following script!\n",
    "ds = xr.Dataset({'precip':da})"
   ]
  },
  {
   "cell_type": "code",
   "execution_count": null,
   "id": "02746b0c-e768-4550-861b-f5dfaf3e0ebf",
   "metadata": {},
   "outputs": [],
   "source": [
    "ds"
   ]
  },
  {
   "cell_type": "code",
   "execution_count": null,
   "id": "41476768-f5dd-4ec5-be94-c8dc3b43ddab",
   "metadata": {},
   "outputs": [],
   "source": [
    "# Say if we have an additional dataarray - air temperature\n",
    "numpy_array_airT = np.random.rand(365,5,21)\n",
    "da_airT = xr.DataArray(numpy_array_airT, \n",
    "                       dims=['time','lat','lon'],\n",
    "                       coords={'time':date_list,\n",
    "                               'lat':lat,\n",
    "                               'lon':lon})"
   ]
  },
  {
   "cell_type": "code",
   "execution_count": null,
   "id": "8b48c714-815b-4fa4-a600-7267dbe9c92d",
   "metadata": {},
   "outputs": [],
   "source": [
    "# we can create a Dataset containing both variables\n",
    "ds_two_var = xr.Dataset({'precip':da,\n",
    "                         'airT':da_airT})"
   ]
  },
  {
   "cell_type": "code",
   "execution_count": null,
   "id": "0c4c6a0d-03c9-45e5-a6a8-0eb3159ef15b",
   "metadata": {},
   "outputs": [],
   "source": [
    "ds_two_var"
   ]
  },
  {
   "cell_type": "markdown",
   "id": "151245e9-a3ae-4a15-aadf-b38933a41d1f",
   "metadata": {},
   "source": [
    "# 1. How do we read `NetCDF` files?\n",
    "\n",
    "We use `xr.open_dataset` to open `NetCDF` files.\n",
    "\n",
    "#### Here we take a look at the monthly averaged 2-m air temperature for year 2022."
   ]
  },
  {
   "cell_type": "code",
   "execution_count": null,
   "id": "185881fd-398b-4cd3-8f29-c32c5b3368f7",
   "metadata": {},
   "outputs": [],
   "source": [
    "ds = xr.open_dataset('e5.moda.an.sfc.128_167_2t.ll025sc.2022.conus.nc')"
   ]
  },
  {
   "cell_type": "code",
   "execution_count": null,
   "id": "aa13d496-c45b-46ae-9a10-ede1afc5b701",
   "metadata": {},
   "outputs": [],
   "source": [
    "# let's first take a look at the dataset\n",
    "ds"
   ]
  },
  {
   "cell_type": "markdown",
   "id": "3c1ee658-df30-44f2-bc60-a19b77ef318b",
   "metadata": {
    "tags": []
   },
   "source": [
    "## When comparing to open `csv` files using `pandas`, we do not have to specify `parse_dates`, cause the date information is usually embedded in `NetCDF` files."
   ]
  },
  {
   "cell_type": "markdown",
   "id": "f9829b66-58e6-4212-b8ed-31baadb3b6d4",
   "metadata": {},
   "source": [
    "# 2. Data slicing"
   ]
  },
  {
   "cell_type": "code",
   "execution_count": null,
   "id": "b16fbda2-3148-4fe8-8929-b41233b384f4",
   "metadata": {},
   "outputs": [],
   "source": [
    "# how do we select one variable from the dataset?\n",
    "ds['VAR_2T']"
   ]
  },
  {
   "cell_type": "code",
   "execution_count": null,
   "id": "c32d852b-ba30-47db-a7a9-b1a08b7d0fe4",
   "metadata": {},
   "outputs": [],
   "source": [
    "# How we can look at the attributions of this variable?\n",
    "ds['VAR_2T'].attrs"
   ]
  },
  {
   "cell_type": "code",
   "execution_count": null,
   "id": "53cb7f91-372c-4503-99d3-31a766bedccc",
   "metadata": {},
   "outputs": [],
   "source": [
    "# how do we get the \"long_name\" attribute?\n",
    "ds['VAR_2T'].attrs['long_name']"
   ]
  },
  {
   "cell_type": "markdown",
   "id": "64151f68-cbbb-4d9d-ae82-8dc413313617",
   "metadata": {},
   "source": [
    "## 2.1. Selecting certain time periods\n",
    "We can directly use `.sel(time=\"time\")`"
   ]
  },
  {
   "cell_type": "code",
   "execution_count": null,
   "id": "ba2dba08-4d56-49b0-8752-536a630d1197",
   "metadata": {},
   "outputs": [],
   "source": [
    "ds['VAR_2T'].sel(time=\"2022-01-01\")"
   ]
  },
  {
   "cell_type": "markdown",
   "id": "0c6a80ca-f16f-4d2d-b351-5175b3be6318",
   "metadata": {},
   "source": [
    "Or we can use `isel(time=int)` to select the i-th time step"
   ]
  },
  {
   "cell_type": "code",
   "execution_count": null,
   "id": "87e90d27-1b3e-497c-a256-16181ad4b552",
   "metadata": {},
   "outputs": [],
   "source": [
    "ds['VAR_2T'].isel(time=0)"
   ]
  },
  {
   "cell_type": "markdown",
   "id": "57c2c72a-59db-43cc-b18c-7b30fde66a46",
   "metadata": {},
   "source": [
    "#### Similarly, we can of course select a period of time!\n",
    "#### How about we select the three summer month, JJA."
   ]
  },
  {
   "cell_type": "code",
   "execution_count": null,
   "id": "6921c9c5-cfa5-413e-bf46-c5bd20fa376e",
   "metadata": {},
   "outputs": [],
   "source": [
    "ds['VAR_2T'].sel(time=slice(\"2022-06-01\",\"2022-08-31\"))"
   ]
  },
  {
   "cell_type": "code",
   "execution_count": null,
   "id": "d16725e2-d076-42e4-a098-3e9e4340f290",
   "metadata": {},
   "outputs": [],
   "source": [
    "ds['VAR_2T'].isel(time=slice(5,8))"
   ]
  },
  {
   "cell_type": "markdown",
   "id": "c7767e3a-1cfd-4b78-a9cb-e75fce851086",
   "metadata": {},
   "source": [
    "## 2.2. Select a sub-region?\n",
    "In many applications, we only focus on a small region in the world. \n",
    "\n",
    "For example, we specifically want to look at the temperatures in the great lake regions.\n",
    "\n",
    "The latitude ranges from **41N to 49N**.\n",
    "\n",
    "The longitude ranges from **93E to 74E**"
   ]
  },
  {
   "cell_type": "code",
   "execution_count": null,
   "id": "6face243-4471-4ea5-bc19-4ae2e6461918",
   "metadata": {},
   "outputs": [],
   "source": [
    "# Note: 1. the longitude ranges from 0-360 in the dataset.\n",
    "#       2. the latitude is in descending order\n",
    "ds_great_lakes = ds['VAR_2T'].sel(latitude=slice(49,41),longitude=slice(-93+360,-74+360))\n",
    "ds_great_lakes"
   ]
  },
  {
   "cell_type": "markdown",
   "id": "c05e9f04-21b3-4ea5-be93-377f0f262af1",
   "metadata": {},
   "source": [
    "# 3. How do we quickly visualize `NetCDF` files?\n",
    "Let's first take a look at what the January mean temperature looks like!"
   ]
  },
  {
   "cell_type": "code",
   "execution_count": null,
   "id": "47fbf65c-da29-44a4-88e3-aca773381ba2",
   "metadata": {},
   "outputs": [],
   "source": [
    "plt.figure(dpi=300)\n",
    "ds_great_lakes.isel(time=0).plot()"
   ]
  },
  {
   "cell_type": "markdown",
   "id": "e0328507-aa41-43a0-a367-bd331d1c565b",
   "metadata": {},
   "source": [
    "## From the plot above, we can clearly see that the great lakes are slightly warmer than nearby land regions in January 2022."
   ]
  },
  {
   "cell_type": "markdown",
   "id": "26413b59-9e47-4168-a6e2-05cdad6d0854",
   "metadata": {},
   "source": [
    "### 3.1. What if we want to quickly look at the temperatures for all months?"
   ]
  },
  {
   "cell_type": "code",
   "execution_count": null,
   "id": "a1cd4333-65db-4294-a7a3-4340288380a8",
   "metadata": {},
   "outputs": [],
   "source": [
    "ds['VAR_2T'].plot(x='longitude',\n",
    "                  y='latitude',\n",
    "                  col=\"time\", \n",
    "                  col_wrap=3)"
   ]
  },
  {
   "cell_type": "markdown",
   "id": "48b31afe-f98a-4bdb-b21b-3deb1288d9c8",
   "metadata": {},
   "source": [
    "## 3.2. \n",
    "Practice #1: Plot the temperature maps for all month but with 6 columns"
   ]
  },
  {
   "cell_type": "code",
   "execution_count": null,
   "id": "483019ee-068e-456f-b79c-8c8f200c1a7f",
   "metadata": {},
   "outputs": [],
   "source": [
    "# INSERT YOUR CODE HERE FOR SECTION 3.2"
   ]
  },
  {
   "cell_type": "code",
   "execution_count": null,
   "id": "ca68f9b0-e4e5-4864-809e-2eff4f1e617b",
   "metadata": {},
   "outputs": [],
   "source": []
  },
  {
   "cell_type": "markdown",
   "id": "3e615515-9c37-47ba-bc27-6994914ab89f",
   "metadata": {
    "tags": []
   },
   "source": [
    "# 4. How can we concatenate multi-year data?"
   ]
  },
  {
   "cell_type": "code",
   "execution_count": null,
   "id": "e17067fa-89b7-40ec-9e2e-b422ba2f7da7",
   "metadata": {},
   "outputs": [],
   "source": [
    "# Let's first read in data for years before 2022\n",
    "ds_pre2022 = xr.open_dataset(\"e5.moda.an.sfc.128_167_2t.ll025sc.2000_2021.conus.nc\")"
   ]
  },
  {
   "cell_type": "code",
   "execution_count": null,
   "id": "23bc2348-0e45-4604-b58f-6c0c3d4ccab9",
   "metadata": {},
   "outputs": [],
   "source": [
    "# Here, we have to specify that we concatenate \n",
    "# data in 'time' dimension\n",
    "ds_concat = xr.concat([ds_pre2022,ds],dim='time')"
   ]
  },
  {
   "cell_type": "code",
   "execution_count": null,
   "id": "11370768-d053-41f2-8541-b422394d80d8",
   "metadata": {},
   "outputs": [],
   "source": [
    "ds_concat"
   ]
  },
  {
   "cell_type": "markdown",
   "id": "46f9729d-b4a9-42a0-a54a-b3b4fd42d5af",
   "metadata": {},
   "source": [
    "# 5. `Resample` v.s. `Groupby`\n",
    "\n",
    "`Resample` aims to change the frequency of the dataset </br>\n",
    "`Groupby` aims to put data into corresponding gruops"
   ]
  },
  {
   "cell_type": "markdown",
   "id": "b6e91c14-1d30-447c-82cb-a615d8a5bae7",
   "metadata": {},
   "source": [
    "## 5.1. \n",
    "\n",
    "Practice #2: Please answer the following questions\n",
    "\n",
    "1. Given a 10-year daily temperature, we were asked to calculate the mean temperature for each month, should we use `Resample` or `Groupby`?\n",
    "\n",
    "2. After we get the monthly average, we were asked to calculate the mean monthly temperature across all 10 yeras, shouldwe use `Resample` or `Groupby`?"
   ]
  },
  {
   "cell_type": "markdown",
   "id": "fc6b497e-b326-44df-8c9e-8156f9577805",
   "metadata": {},
   "source": [
    "#### Type your answer in this markdown cell:\n",
    "\n",
    "\n",
    "\n",
    "\n",
    "---"
   ]
  },
  {
   "cell_type": "markdown",
   "id": "213d8eac-1c9c-4ae9-a61c-669cf1357c53",
   "metadata": {},
   "source": [
    "## 5.2. Syntax for `Resample`\n",
    "\n",
    "Let's first calculate the mean seasonal temperature.\n",
    "\n",
    "Usually, Spring includes March April May. Naturally, Summer (JJA), Fall (SON), Winter (DJF)."
   ]
  },
  {
   "cell_type": "code",
   "execution_count": null,
   "id": "780b5f38-0dcd-41fc-aed9-75694b37a4d7",
   "metadata": {},
   "outputs": [],
   "source": [
    "# therefore, to make sure that all months are available \n",
    "# for each season, we decide to truncate the dataset\n",
    "# to 2000 December to 2022 Nov.\n",
    "ds_concat_sel = ds_concat.sel(time=slice(\"2000-12-01\",\"2022-11-01\"))"
   ]
  },
  {
   "cell_type": "markdown",
   "id": "31dc3cd5-8a1e-4ca1-b96d-434b6938e88b",
   "metadata": {},
   "source": [
    "To use `resample`, we would need to specify a `dictionary` object.\n",
    "\n",
    "\n",
    "`ds.resample{\"time dimension name\":\"frequency\"}`\n",
    "\n",
    "Usually used `frequency` includes: `D`-daily, `M`-monthly, `QS-DEC`-seasonally"
   ]
  },
  {
   "cell_type": "code",
   "execution_count": null,
   "id": "77ca028e-fa4a-49fe-a8de-a3a47d70d6f7",
   "metadata": {},
   "outputs": [],
   "source": [
    "ds_season = ds_concat_sel.resample({\"time\":\"QS-DEC\"}).mean()"
   ]
  },
  {
   "cell_type": "code",
   "execution_count": null,
   "id": "af6d3d7b-b1bd-4451-9f5a-ff46f20fbfbe",
   "metadata": {},
   "outputs": [],
   "source": [
    "ds_season"
   ]
  },
  {
   "cell_type": "markdown",
   "id": "9c112de2-628f-4799-9848-f0f3c4811bb7",
   "metadata": {
    "tags": []
   },
   "source": [
    "# 5.3. Syntax for `groupby`\n",
    "\n",
    "Let's calculate the mean seasonal temperature across the 22 years of data!\n",
    "\n",
    "Since now we have all data for each season, now we only need to group the data by their season."
   ]
  },
  {
   "cell_type": "code",
   "execution_count": null,
   "id": "2029a080-ecbf-4d3d-8388-9e92a60e329f",
   "metadata": {},
   "outputs": [],
   "source": [
    "# we need to know that the syntax for groupby\n",
    "# is different from the syntax fro resample\n",
    "# Here, the syntax for groupby is shown below\n",
    "# For more different groups, we can refer to \n",
    "# this website: \n",
    "# https://docs.xarray.dev/en/stable/generated/xarray.DataArray.groupby.html\n",
    "\n",
    "ds_season_mean = ds_season.groupby(ds_season.time.dt.season).mean()"
   ]
  },
  {
   "cell_type": "code",
   "execution_count": null,
   "id": "7dc573e3-b49a-43ea-868c-ac0882a57d5b",
   "metadata": {},
   "outputs": [],
   "source": [
    "ds_season_mean"
   ]
  },
  {
   "cell_type": "markdown",
   "id": "4553dcd2-cd7d-4c36-bde6-9cc85aa1c7ee",
   "metadata": {},
   "source": [
    "## 5.3.1. \n",
    "\n",
    "Practice #3: Quick visualization of the seasonal temperatures\n",
    "\n",
    "Plot temperatures for four seasons (2 by 2 plots)\n",
    "\n",
    "### What can you observe the 2-meter temperature above great lakes compared to the 2-meter temperatures in nearby land areas?"
   ]
  },
  {
   "cell_type": "code",
   "execution_count": null,
   "id": "a5d08fa7-b098-4f02-a303-515f5f44b982",
   "metadata": {},
   "outputs": [],
   "source": [
    "# INSERT YOUR CODE HERE"
   ]
  },
  {
   "cell_type": "markdown",
   "id": "7d57796e-3aef-4131-a357-eaea50e5de2f",
   "metadata": {},
   "source": [
    "# 6. Regional average\n",
    "We want to know whether there is a statistically significant trend in mean annual temperatures in the US. \n",
    "\n",
    "First, we calculate the mean annual temperatures. Should we use `resample` or `groupby`?"
   ]
  },
  {
   "cell_type": "code",
   "execution_count": null,
   "id": "62b10ade-7eb3-44a2-80e8-9ed465ebb847",
   "metadata": {},
   "outputs": [],
   "source": [
    "# YS denotes the start of the year, which only refers to the\n",
    "# time stamp. For example, if we use \"YS\", the timestamp for\n",
    "# annual mean will be \"2000-01-01\", if we use \"YE\", the timestamp\n",
    "# will be \"2000-12-31\". However, they both provide the same \n",
    "# annual mean value for Year 2000.\n",
    "ds_annual = ds_concat.resample({\"time\":'YS'}).mean()"
   ]
  },
  {
   "cell_type": "markdown",
   "id": "780e23d2-3396-4333-acb1-d4d7df59202f",
   "metadata": {},
   "source": [
    "### Then we calculate the regional average temperatures "
   ]
  },
  {
   "cell_type": "code",
   "execution_count": null,
   "id": "eb31b248-58b8-474e-99d7-4748734e79e0",
   "metadata": {},
   "outputs": [],
   "source": [
    "ds_annual_mean = ds_annual['VAR_2T'].mean(dim=['latitude','longitude'])"
   ]
  },
  {
   "cell_type": "code",
   "execution_count": null,
   "id": "902b1931-b0c6-4261-88ba-b30511347ae1",
   "metadata": {},
   "outputs": [],
   "source": [
    "# Quick visualization\n",
    "ds_annual_mean.plot()"
   ]
  },
  {
   "cell_type": "markdown",
   "id": "c9f14b47-fd60-4a01-9c4c-f26d6aad7f99",
   "metadata": {},
   "source": [
    "## 6.1. \n",
    "\n",
    "Practice #4: Did you observe a statistically significant increasing trend in the mean annual air temperature?\n",
    "\n",
    "Please conduct a hypothesis test for the slope of linear regression (`annual mean temperature` versus `year`) with 95% confidence interval."
   ]
  },
  {
   "cell_type": "code",
   "execution_count": null,
   "id": "e8e43282-aee0-4677-99b1-85e5b33d9afc",
   "metadata": {},
   "outputs": [],
   "source": [
    "# INSERT YOUR CODE HERE"
   ]
  },
  {
   "cell_type": "code",
   "execution_count": null,
   "id": "9ebb9cb9-607d-4c4a-9b9b-5d580029df36",
   "metadata": {},
   "outputs": [],
   "source": []
  },
  {
   "cell_type": "code",
   "execution_count": null,
   "id": "2c3e869a-8302-409b-acb2-1111fc4a4892",
   "metadata": {},
   "outputs": [],
   "source": []
  },
  {
   "cell_type": "code",
   "execution_count": null,
   "id": "daabd2c8-0f1c-4bd2-8c7a-e27fbf29c12f",
   "metadata": {},
   "outputs": [],
   "source": []
  },
  {
   "cell_type": "code",
   "execution_count": null,
   "id": "ab390930-051b-4aa6-9e29-f93dfe87d38d",
   "metadata": {},
   "outputs": [],
   "source": []
  },
  {
   "cell_type": "markdown",
   "id": "18fc2f0a-13cb-428a-a564-e3931c623643",
   "metadata": {},
   "source": [
    "# 7. Can we plot the gridded dataset together with shapefiles?"
   ]
  },
  {
   "cell_type": "code",
   "execution_count": null,
   "id": "03a936a1-44b1-4158-923d-88b9495206d7",
   "metadata": {},
   "outputs": [],
   "source": [
    "import pyproj\n",
    "import cartopy.crs as ccrs\n",
    "import cartopy.feature as cfeature"
   ]
  },
  {
   "cell_type": "code",
   "execution_count": null,
   "id": "8c7ea847-1415-4373-a84a-a90c3f0b6659",
   "metadata": {},
   "outputs": [],
   "source": [
    "# let's first calculate the mean annual temperature across all years\n",
    "da_annual_mean = ds_annual['VAR_2T'].mean(dim='time')"
   ]
  },
  {
   "cell_type": "markdown",
   "id": "8b08e925-14e9-49a1-8edd-09d94c4bc762",
   "metadata": {},
   "source": [
    "## 7.1. `da.plot.pcolormesh()`"
   ]
  },
  {
   "cell_type": "code",
   "execution_count": null,
   "id": "ea6c429b-cd2e-4bcb-9391-a912980e7ffd",
   "metadata": {},
   "outputs": [],
   "source": [
    "plt.figure(dpi=300)\n",
    "# first let's define the CRS of targeted domain\n",
    "proj = ccrs.Mercator()\n",
    "ax = plt.axes(projection=proj)\n",
    "\n",
    "# set the extent of the map\n",
    "# [lon_min, lon_max, lat_min, lat_max]\n",
    "ax.set_extent([-135,-55,22,48])\n",
    "\n",
    "# To plot gridded dataset, we need to use the function\n",
    "# da.plot.pcolormesh(x_dim,y_dim)\n",
    "# NOTE: here we need to specify the CRS of the gridded\n",
    "#       dataset (usually it is Plate Carree if we \n",
    "#       use lat/lon coordinates)\n",
    "da_annual_mean.plot.pcolormesh('longitude', 'latitude', ax=ax, \n",
    "                               transform=ccrs.PlateCarree(),\n",
    "                               zorder=1)\n",
    "ax.coastlines(linewidth=0.5, color='k', zorder=2)\n"
   ]
  },
  {
   "cell_type": "markdown",
   "id": "34437ec0-818f-405f-b050-3f206a0e53c8",
   "metadata": {},
   "source": [
    "## We can even quickly add the country boundries or major lakes using `cartopy.feature`"
   ]
  },
  {
   "cell_type": "code",
   "execution_count": null,
   "id": "8f3640c9-5ceb-4de3-a1e6-39641fa8e51a",
   "metadata": {},
   "outputs": [],
   "source": [
    "plt.figure(dpi=300)\n",
    "proj = ccrs.Mercator()\n",
    "ax = plt.axes(projection=proj)\n",
    "ax.set_extent([-135,-55,22,48])\n",
    "da_annual_mean.plot.pcolormesh('longitude', 'latitude', ax=ax, \n",
    "                               transform=ccrs.PlateCarree(),\n",
    "                               zorder=1)\n",
    "ax.coastlines(linewidth=0.5, color='k', zorder=2)\n",
    "#\n",
    "# Here we can use 'cfeature.BORDERS' for adding country boundries\n",
    "#\n",
    "ax.add_feature(cfeature.BORDERS, edgecolor='silver',\n",
    "               facecolor=\"none\", lw=0.8, zorder=3)\n",
    "#\n",
    "# Here we can use 'cfeature.LAKES' for adding major lakes globally\n",
    "# \n",
    "ax.add_feature(cfeature.LAKES, edgecolor='none',\n",
    "               facecolor=\"dodgerblue\",  zorder=3)"
   ]
  },
  {
   "cell_type": "markdown",
   "id": "f1569729-fa5f-40b3-b64b-0d859021365f",
   "metadata": {},
   "source": [
    "# 7.1. \n",
    "\n",
    "Practice #5: Zoom in the plot above to focus on New York State\n",
    "\n",
    "1. Use the code in above section as an example.\n",
    "2. Please adjust the extent of the map to focus on New York State\n",
    "3. It is ok to keep the county boundries (Please use \"transparent\" facecolor, and \"lightgray\" edgecolor)\n",
    "4. Add grid lines to show latitude/longitude coordinates"
   ]
  },
  {
   "cell_type": "code",
   "execution_count": null,
   "id": "510ad661-aba7-4a50-9bd8-113ce41d4dd9",
   "metadata": {},
   "outputs": [],
   "source": [
    "import matplotlib.ticker as mticker"
   ]
  },
  {
   "cell_type": "code",
   "execution_count": null,
   "id": "0280785a-c980-43b6-bead-296499a3b49c",
   "metadata": {},
   "outputs": [],
   "source": [
    "ny = gpd.read_file('NY_counties.gpkg')"
   ]
  },
  {
   "cell_type": "code",
   "execution_count": null,
   "id": "87cc0076-a690-4b88-b3f4-11a167bfa120",
   "metadata": {},
   "outputs": [],
   "source": [
    "# INSERT YOUR CODE HERE "
   ]
  },
  {
   "cell_type": "code",
   "execution_count": null,
   "id": "fb5efc73-456c-4c0a-99a0-bca97616de4b",
   "metadata": {},
   "outputs": [],
   "source": []
  },
  {
   "cell_type": "code",
   "execution_count": null,
   "id": "6eee8153-f849-4076-ab90-bc7b27a4c74d",
   "metadata": {},
   "outputs": [],
   "source": []
  }
 ],
 "metadata": {
  "kernelspec": {
   "display_name": "Python [conda env:root] *",
   "language": "python",
   "name": "conda-root-py"
  },
  "language_info": {
   "codemirror_mode": {
    "name": "ipython",
    "version": 3
   },
   "file_extension": ".py",
   "mimetype": "text/x-python",
   "name": "python",
   "nbconvert_exporter": "python",
   "pygments_lexer": "ipython3",
   "version": "3.9.7"
  }
 },
 "nbformat": 4,
 "nbformat_minor": 5
}
