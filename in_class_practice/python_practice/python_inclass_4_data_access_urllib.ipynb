{
 "cells": [
  {
   "cell_type": "code",
   "execution_count": 1,
   "id": "65f0861c-34d8-40a4-a5ac-dc7e076356c7",
   "metadata": {},
   "outputs": [],
   "source": [
    "import urllib\n",
    "import numpy as np\n",
    "import pandas as pd\n",
    "import matplotlib.pyplot as plt"
   ]
  },
  {
   "cell_type": "markdown",
   "id": "45e88d40-8c6f-442b-b9b1-22ceb1b5f2b8",
   "metadata": {
    "tags": []
   },
   "source": [
    "\n",
    "# A quick detour on 'f-strings'\n",
    "In python there is a really nice way to insert values \n",
    "from variables into a string variable. This task is \n",
    "referred to in programming as string formatting. In the\n",
    "past there were other ways to do this in python, but \n",
    "a few years ago they added this approach which is generally\n",
    "seen as the best way to do this. For an overview see this:\n",
    "https://realpython.com/python-f-strings/\n"
   ]
  },
  {
   "cell_type": "code",
   "execution_count": 2,
   "id": "c185e157-18a6-43b8-a03f-065446b3ba7c",
   "metadata": {},
   "outputs": [
    {
     "name": "stdout",
     "output_type": "stream",
     "text": [
      "The average of my random numbers is 0.34930435553825073\n",
      "The average of my random numbers is 0.35\n"
     ]
    }
   ],
   "source": [
    "random_numbers = np.random.random(5)\n",
    "print('The average of my random numbers is', np.mean(random_numbers))\n",
    "print(f'The average of my random numbers is {np.mean(random_numbers):0.2f}')\n"
   ]
  },
  {
   "cell_type": "markdown",
   "id": "42ad9ca4-ac60-4183-9e28-2e457cfae738",
   "metadata": {
    "tags": []
   },
   "source": [
    "# Access streamflow data for Niagara River!\n",
    "With that out of the way let's start to work towards being able to grab data on the fly from the USGS website. And now we've defined the site id for the Verde River, as well as some start and end dates to get the data for. With those defined clearly it makes it much easier for someone else to understand what you are trying to do."
   ]
  },
  {
   "cell_type": "markdown",
   "id": "47d7d082-34e5-4c77-97b5-00f110d9f618",
   "metadata": {},
   "source": [
    "## 1. define site specific information"
   ]
  },
  {
   "cell_type": "code",
   "execution_count": 5,
   "id": "323a5942-5409-43e5-a449-09cd448b7161",
   "metadata": {},
   "outputs": [],
   "source": [
    "args = {\n",
    "    'site_no': '04216000',\n",
    "    'begin_date': '2022-09-01',\n",
    "    'end_date': '2023-09-01'\n",
    "}"
   ]
  },
  {
   "cell_type": "code",
   "execution_count": 6,
   "id": "f21cf100-c509-41e6-a346-35cbe7fca1c9",
   "metadata": {},
   "outputs": [],
   "source": [
    "query = urllib.parse.urlencode(args)"
   ]
  },
  {
   "cell_type": "code",
   "execution_count": 7,
   "id": "94ca6373-f05d-48cc-8898-d5d451e03673",
   "metadata": {},
   "outputs": [
    {
     "data": {
      "text/plain": [
       "'site_no=04216000&begin_date=2022-09-01&end_date=2023-09-01'"
      ]
     },
     "execution_count": 7,
     "metadata": {},
     "output_type": "execute_result"
    }
   ],
   "source": [
    "query"
   ]
  },
  {
   "cell_type": "markdown",
   "id": "63aa8845-ec7f-4ccc-be75-e1a439a30e1e",
   "metadata": {},
   "source": [
    "## 2. Create the url and access the data using `urllib`\n",
    "\n",
    "Now we can use f-strings to insert these values into the query URL which will point to the same website that we saw in the lecture portion\n",
    "You can verify this by copying the URL into your web browser."
   ]
  },
  {
   "cell_type": "code",
   "execution_count": 8,
   "id": "164664d5-d754-45da-940a-58c0708e564b",
   "metadata": {},
   "outputs": [
    {
     "name": "stdout",
     "output_type": "stream",
     "text": [
      "https://waterdata.usgs.gov/nwis/dv?cb_00060=on&format=rdb&referred_module=sw&site_no=04216000&begin_date=2022-09-01&end_date=2023-09-01\n"
     ]
    }
   ],
   "source": [
    "verde_url = (\n",
    "    f'https://waterdata.usgs.gov/nwis/dv?'\n",
    "    f'cb_00060=on&format=rdb&referred_module=sw&{query}'\n",
    ")\n",
    "print(verde_url)"
   ]
  },
  {
   "cell_type": "markdown",
   "id": "5eec37ea-f83b-4c9a-8b6f-37de10e64058",
   "metadata": {
    "tags": []
   },
   "source": [
    "## 3. Read the data using `pandas`"
   ]
  },
  {
   "cell_type": "code",
   "execution_count": 32,
   "id": "390b1efa-39df-44d3-be4a-7f5aacbd535f",
   "metadata": {},
   "outputs": [],
   "source": [
    "# With that we need to download the data and get it into pandas.\n",
    "# To download the data we'll use the `urllib` module which is \n",
    "# built into the python \"standard library\" of stuff you get for\n",
    "# free when you install python. We use the `urllib.request.urlopen`\n",
    "# function which simply opens a connection to the url, just like \n",
    "# going to the url in your web browser. Then, we can put the `response`\n",
    "# into `pd.read_table`. There are a lot of other parameters going \n",
    "# into this function now, and this is very common for when you scrape\n",
    "# data directly from the internet because formats vary.\n",
    "\n",
    "response = urllib.request.urlopen(verde_url)\n",
    "\n",
    "# Anyways, let's walk through a few of them:\n",
    "#  - comment='#': Lines beginning with a '#' are comments that pandas should ignore\n",
    "#  - sep='\\s+': The data representing columns are separated by white space\n",
    "#  - names: The names of the columns. I set these because the USGS ones are trash\n",
    "#  - index_col=2: Set the 3rd column as the index (that is, \"date\")\n",
    "#  - parse_dates=True: Try to make dates the correct data type, didn't work here but a good idea\n",
    "#  - date_format='yyyy-mm-dd': Display the format of date\n",
    "#  - engine='python': Python engine is currently more feature-complete\n",
    "\n",
    "df = pd.read_table(\n",
    "    response,\n",
    "    comment='#',\n",
    "    sep='\\s+',\n",
    "    names=['agency', 'site', 'date', 'streamflow', 'quality_flag'],\n",
    "    index_col=2,\n",
    "    parse_dates=True,\n",
    "    date_format='yyyy-mm-dd',\n",
    "    engine='python'\n",
    ")"
   ]
  },
  {
   "cell_type": "code",
   "execution_count": 33,
   "id": "b6f6963d-ae61-4e80-b102-1d777b463599",
   "metadata": {},
   "outputs": [
    {
     "data": {
      "text/html": [
       "<div>\n",
       "<style scoped>\n",
       "    .dataframe tbody tr th:only-of-type {\n",
       "        vertical-align: middle;\n",
       "    }\n",
       "\n",
       "    .dataframe tbody tr th {\n",
       "        vertical-align: top;\n",
       "    }\n",
       "\n",
       "    .dataframe thead th {\n",
       "        text-align: right;\n",
       "    }\n",
       "</style>\n",
       "<table border=\"1\" class=\"dataframe\">\n",
       "  <thead>\n",
       "    <tr style=\"text-align: right;\">\n",
       "      <th></th>\n",
       "      <th>agency</th>\n",
       "      <th>site</th>\n",
       "      <th>streamflow</th>\n",
       "      <th>quality_flag</th>\n",
       "    </tr>\n",
       "    <tr>\n",
       "      <th>date</th>\n",
       "      <th></th>\n",
       "      <th></th>\n",
       "      <th></th>\n",
       "      <th></th>\n",
       "    </tr>\n",
       "  </thead>\n",
       "  <tbody>\n",
       "    <tr>\n",
       "      <th>datetime</th>\n",
       "      <td>agency_cd</td>\n",
       "      <td>site_no</td>\n",
       "      <td>217733_00060_00003</td>\n",
       "      <td>217733_00060_00003_cd</td>\n",
       "    </tr>\n",
       "    <tr>\n",
       "      <th>20d</th>\n",
       "      <td>5s</td>\n",
       "      <td>15s</td>\n",
       "      <td>14n</td>\n",
       "      <td>10s</td>\n",
       "    </tr>\n",
       "    <tr>\n",
       "      <th>2022-09-01</th>\n",
       "      <td>USGS</td>\n",
       "      <td>04216000</td>\n",
       "      <td>227000</td>\n",
       "      <td>A</td>\n",
       "    </tr>\n",
       "    <tr>\n",
       "      <th>2022-09-02</th>\n",
       "      <td>USGS</td>\n",
       "      <td>04216000</td>\n",
       "      <td>222000</td>\n",
       "      <td>A</td>\n",
       "    </tr>\n",
       "    <tr>\n",
       "      <th>2022-09-03</th>\n",
       "      <td>USGS</td>\n",
       "      <td>04216000</td>\n",
       "      <td>223000</td>\n",
       "      <td>A</td>\n",
       "    </tr>\n",
       "    <tr>\n",
       "      <th>...</th>\n",
       "      <td>...</td>\n",
       "      <td>...</td>\n",
       "      <td>...</td>\n",
       "      <td>...</td>\n",
       "    </tr>\n",
       "    <tr>\n",
       "      <th>2023-08-28</th>\n",
       "      <td>USGS</td>\n",
       "      <td>04216000</td>\n",
       "      <td>233000</td>\n",
       "      <td>A</td>\n",
       "    </tr>\n",
       "    <tr>\n",
       "      <th>2023-08-29</th>\n",
       "      <td>USGS</td>\n",
       "      <td>04216000</td>\n",
       "      <td>235000</td>\n",
       "      <td>A</td>\n",
       "    </tr>\n",
       "    <tr>\n",
       "      <th>2023-08-30</th>\n",
       "      <td>USGS</td>\n",
       "      <td>04216000</td>\n",
       "      <td>239000</td>\n",
       "      <td>A</td>\n",
       "    </tr>\n",
       "    <tr>\n",
       "      <th>2023-08-31</th>\n",
       "      <td>USGS</td>\n",
       "      <td>04216000</td>\n",
       "      <td>230000</td>\n",
       "      <td>A</td>\n",
       "    </tr>\n",
       "    <tr>\n",
       "      <th>2023-09-01</th>\n",
       "      <td>USGS</td>\n",
       "      <td>04216000</td>\n",
       "      <td>230000</td>\n",
       "      <td>A</td>\n",
       "    </tr>\n",
       "  </tbody>\n",
       "</table>\n",
       "<p>368 rows × 4 columns</p>\n",
       "</div>"
      ],
      "text/plain": [
       "               agency      site          streamflow           quality_flag\n",
       "date                                                                      \n",
       "datetime    agency_cd   site_no  217733_00060_00003  217733_00060_00003_cd\n",
       "20d                5s       15s                 14n                    10s\n",
       "2022-09-01       USGS  04216000              227000                      A\n",
       "2022-09-02       USGS  04216000              222000                      A\n",
       "2022-09-03       USGS  04216000              223000                      A\n",
       "...               ...       ...                 ...                    ...\n",
       "2023-08-28       USGS  04216000              233000                      A\n",
       "2023-08-29       USGS  04216000              235000                      A\n",
       "2023-08-30       USGS  04216000              239000                      A\n",
       "2023-08-31       USGS  04216000              230000                      A\n",
       "2023-09-01       USGS  04216000              230000                      A\n",
       "\n",
       "[368 rows x 4 columns]"
      ]
     },
     "execution_count": 33,
     "metadata": {},
     "output_type": "execute_result"
    }
   ],
   "source": [
    "df"
   ]
  },
  {
   "cell_type": "code",
   "execution_count": 34,
   "id": "88d289e8-f1d7-4421-adf9-ddc0b136ba7d",
   "metadata": {},
   "outputs": [],
   "source": [
    "# discard the first two rows\n",
    "df = df.iloc[2:]"
   ]
  },
  {
   "cell_type": "code",
   "execution_count": 35,
   "id": "6a151d0c-3602-42f2-87a1-dcc004fd6865",
   "metadata": {},
   "outputs": [
    {
     "name": "stderr",
     "output_type": "stream",
     "text": [
      "/tmp/ipykernel_231/68352453.py:4: SettingWithCopyWarning: \n",
      "A value is trying to be set on a copy of a slice from a DataFrame.\n",
      "Try using .loc[row_indexer,col_indexer] = value instead\n",
      "\n",
      "See the caveats in the documentation: https://pandas.pydata.org/pandas-docs/stable/user_guide/indexing.html#returning-a-view-versus-a-copy\n",
      "  df['streamflow'] = df['streamflow'].astype(np.float64)\n"
     ]
    },
    {
     "data": {
      "text/html": [
       "<div>\n",
       "<style scoped>\n",
       "    .dataframe tbody tr th:only-of-type {\n",
       "        vertical-align: middle;\n",
       "    }\n",
       "\n",
       "    .dataframe tbody tr th {\n",
       "        vertical-align: top;\n",
       "    }\n",
       "\n",
       "    .dataframe thead th {\n",
       "        text-align: right;\n",
       "    }\n",
       "</style>\n",
       "<table border=\"1\" class=\"dataframe\">\n",
       "  <thead>\n",
       "    <tr style=\"text-align: right;\">\n",
       "      <th></th>\n",
       "      <th>agency</th>\n",
       "      <th>site</th>\n",
       "      <th>streamflow</th>\n",
       "      <th>quality_flag</th>\n",
       "    </tr>\n",
       "    <tr>\n",
       "      <th>date</th>\n",
       "      <th></th>\n",
       "      <th></th>\n",
       "      <th></th>\n",
       "      <th></th>\n",
       "    </tr>\n",
       "  </thead>\n",
       "  <tbody>\n",
       "    <tr>\n",
       "      <th>2022-09-01</th>\n",
       "      <td>USGS</td>\n",
       "      <td>04216000</td>\n",
       "      <td>227000.0</td>\n",
       "      <td>A</td>\n",
       "    </tr>\n",
       "    <tr>\n",
       "      <th>2022-09-02</th>\n",
       "      <td>USGS</td>\n",
       "      <td>04216000</td>\n",
       "      <td>222000.0</td>\n",
       "      <td>A</td>\n",
       "    </tr>\n",
       "    <tr>\n",
       "      <th>2022-09-03</th>\n",
       "      <td>USGS</td>\n",
       "      <td>04216000</td>\n",
       "      <td>223000.0</td>\n",
       "      <td>A</td>\n",
       "    </tr>\n",
       "    <tr>\n",
       "      <th>2022-09-04</th>\n",
       "      <td>USGS</td>\n",
       "      <td>04216000</td>\n",
       "      <td>219000.0</td>\n",
       "      <td>A</td>\n",
       "    </tr>\n",
       "    <tr>\n",
       "      <th>2022-09-05</th>\n",
       "      <td>USGS</td>\n",
       "      <td>04216000</td>\n",
       "      <td>213000.0</td>\n",
       "      <td>A</td>\n",
       "    </tr>\n",
       "  </tbody>\n",
       "</table>\n",
       "</div>"
      ],
      "text/plain": [
       "           agency      site  streamflow quality_flag\n",
       "date                                                \n",
       "2022-09-01   USGS  04216000    227000.0            A\n",
       "2022-09-02   USGS  04216000    222000.0            A\n",
       "2022-09-03   USGS  04216000    223000.0            A\n",
       "2022-09-04   USGS  04216000    219000.0            A\n",
       "2022-09-05   USGS  04216000    213000.0            A"
      ]
     },
     "execution_count": 35,
     "metadata": {},
     "output_type": "execute_result"
    }
   ],
   "source": [
    "# Now convert the streamflow data to floats and\n",
    "# the index to datetimes. When processing raw data\n",
    "# it's common to have to do some extra postprocessing\n",
    "df['streamflow'] = df['streamflow'].astype(np.float64)\n",
    "df.index = pd.DatetimeIndex(df.index)\n",
    "df.head()"
   ]
  },
  {
   "cell_type": "code",
   "execution_count": null,
   "id": "9a017576-cb28-4acf-be26-a1412b085cad",
   "metadata": {},
   "outputs": [],
   "source": []
  }
 ],
 "metadata": {
  "kernelspec": {
   "display_name": "Python 3 (ipykernel)",
   "language": "python",
   "name": "python3"
  },
  "language_info": {
   "codemirror_mode": {
    "name": "ipython",
    "version": 3
   },
   "file_extension": ".py",
   "mimetype": "text/x-python",
   "name": "python",
   "nbconvert_exporter": "python",
   "pygments_lexer": "ipython3",
   "version": "3.9.7"
  }
 },
 "nbformat": 4,
 "nbformat_minor": 5
}
