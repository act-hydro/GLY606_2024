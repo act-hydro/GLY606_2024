{
 "cells": [
  {
   "cell_type": "markdown",
   "id": "f3d05a12",
   "metadata": {
    "tags": []
   },
   "source": [
    "# Getting started with `matplotlib`\n",
    "\n",
    "Matplotlib is the most used plotting package\n",
    "in python. It was designed to mimic the plotting\n",
    "syntax and functionality from Matlab, hence\n",
    "the name matplotlib.\n",
    "\n",
    "Just like when we imported numpy \"as np\"\n",
    "it is standard to have two separate imports\n",
    "with simplified aliases \n",
    "\n",
    "The base `mpl` import is used for high level \n",
    "settings like setting a default figure or font\n",
    "size. The import of `plt` provides the main \n",
    "interface to the actual plotting functions.\n",
    "\n",
    "To begin, we define the same air pressure\n",
    "function as well as import numpy. Numpy and\n",
    "matplotlib have been designed to work very \n",
    "well together\n",
    "\n",
    "Just like with numpy, matplotlib is a very\n",
    "large and general purpose library so we won't\n",
    "be able to cover everything.\n",
    "\n",
    "The introductory tutorials can be  found here: \n",
    "https://matplotlib.org/stable/tutorials/introductory/index.html#"
   ]
  },
  {
   "cell_type": "code",
   "execution_count": null,
   "id": "8db0fb3b",
   "metadata": {},
   "outputs": [],
   "source": [
    "import time\n",
    "import numpy as np\n",
    "import matplotlib as mpl\n",
    "import matplotlib.pyplot as plt\n",
    "\n",
    "def air_pressure_at_height(h, T0=273):\n",
    "    p0 = 101325      # reference pressure in pascals\n",
    "    M = 0.02896968   # molar mass of air kg/mol\n",
    "    g = 9.81         # gravity m/s^2\n",
    "    R0 = 8.314462618 # gas constant J/(mol·K) \n",
    "    T = T0           # temp in kelvin\n",
    "\n",
    "    ratio = -(g * h * M) / (R0 * T)\n",
    "    p_h = p0 * np.exp(ratio)\n",
    "    return p_h"
   ]
  },
  {
   "cell_type": "markdown",
   "id": "a9cd5805",
   "metadata": {
    "tags": []
   },
   "source": [
    "Okay, our first plot will be the variation\n",
    "of the air pressure with respect to elevation.\n",
    "To do this, we will first create our two arrays,\n",
    "one for the elevations and then we feed that\n",
    "into our nice function just like in the previous\n",
    "notebook.\n",
    "\n",
    "From there we can just use the `plt.plot`\n",
    "function to make the plot. Pretty nifty!"
   ]
  },
  {
   "cell_type": "code",
   "execution_count": null,
   "id": "ee8856f6",
   "metadata": {
    "tags": []
   },
   "outputs": [],
   "source": [
    "heights = np.arange(0, 20000, 50)\n",
    "pressures = air_pressure_at_height(heights)\n",
    "\n",
    "plt.plot(pressures)"
   ]
  },
  {
   "cell_type": "markdown",
   "id": "ff16e0b7",
   "metadata": {
    "tags": []
   },
   "source": [
    "Hmmm, something is going on with that x axis.\n",
    "It only shows up to 400 but our heights array\n",
    "goes to 20,000! What's going on there? We only\n",
    "gave the plot function the pressures, so it knows\n",
    "nothing about the heights. By default matplotlib\n",
    "will just label the x axis with 0 to N where N\n",
    "is the length of the array you passed in to the \n",
    "plot function.\n",
    "\n",
    "To get both, you can optionally pass in both\n",
    "what you want on the x axis *and* what you \n",
    "want on the y axis."
   ]
  },
  {
   "cell_type": "code",
   "execution_count": null,
   "id": "96e98cad",
   "metadata": {
    "tags": []
   },
   "outputs": [],
   "source": [
    "plt.plot(heights, pressures)"
   ]
  },
  {
   "cell_type": "markdown",
   "id": "5e05411c",
   "metadata": {
    "tags": []
   },
   "source": [
    "One problem though. If you gave this plot\n",
    "to a colleague they would have no clue what it\n",
    "is telling them. To help them out let's add some\n",
    "axis labels. This can be done with the `plt.xlabel`\n",
    "and `plt.ylabel` functions. Matplotlib automatically\n",
    "knows to put them on the current plot."
   ]
  },
  {
   "cell_type": "code",
   "execution_count": null,
   "id": "e3226c62",
   "metadata": {
    "tags": []
   },
   "outputs": [],
   "source": [
    "plt.plot(heights, pressures)\n",
    "plt.xlabel('Height above sea level [m]')\n",
    "plt.ylabel('Air pressure [pa]')"
   ]
  },
  {
   "cell_type": "markdown",
   "id": "4dc4c554",
   "metadata": {
    "tags": []
   },
   "source": [
    "Beautiful! But, we're not done yet. If you've looked\n",
    "closely at the function for the air pressure you might\n",
    "have noticed we added a new argument `T0` with a default\n",
    "argument of 273.15. By a default argument we mean that \n",
    "if you don't supply an alternative, it sets that one as\n",
    "the value. But we know air pressure is a function of \n",
    "temperature and so we might want to see how that affects\n",
    "things. Let's try a few and plot them.\n",
    "\n",
    "To do that we just need to run a few new calculations, \n",
    "and then call the `plt.plot` function on each of the \n",
    "results."
   ]
  },
  {
   "cell_type": "code",
   "execution_count": null,
   "id": "630d9989",
   "metadata": {
    "tags": []
   },
   "outputs": [],
   "source": [
    "p_273 = air_pressure_at_height(heights)\n",
    "p_293 = air_pressure_at_height(heights, T0=293)\n",
    "p_313 = air_pressure_at_height(heights, T0=313)\n",
    "p_333 = air_pressure_at_height(heights, T0=333)\n",
    "\n",
    "plt.plot(heights, p_273)\n",
    "plt.plot(heights, p_293)\n",
    "plt.plot(heights, p_313)\n",
    "plt.plot(heights, p_333)\n",
    "\n",
    "plt.xlabel('Height above sea level [m]')\n",
    "plt.ylabel('Air pressure [pa]')"
   ]
  },
  {
   "cell_type": "markdown",
   "id": "234a3efa",
   "metadata": {
    "tags": []
   },
   "source": [
    "This is awesome, but we're back to the fact that\n",
    "if you handed this to someone else they would not have \n",
    "a way of knowing what the different lines are for.\n",
    "We can remedy this by adding `label`s to each of the calls\n",
    "to `plt.plot`. Once those have been added we just call\n",
    "`plt.legend()` after we are done plotting the lines to\n",
    "add it to the figure"
   ]
  },
  {
   "cell_type": "code",
   "execution_count": null,
   "id": "f492cca7",
   "metadata": {
    "tags": []
   },
   "outputs": [],
   "source": [
    "p_273 = air_pressure_at_height(heights)\n",
    "p_293 = air_pressure_at_height(heights, T0=293)\n",
    "p_313 = air_pressure_at_height(heights, T0=313)\n",
    "p_333 = air_pressure_at_height(heights, T0=333)\n",
    "\n",
    "plt.plot(heights, p_273, label='T=273K')\n",
    "plt.plot(heights, p_293, label='T=293K')\n",
    "plt.plot(heights, p_313, label='T=313K')\n",
    "plt.plot(heights, p_333, label='T=333K')\n",
    "\n",
    "plt.xlabel('Height above sea level [m]')\n",
    "plt.ylabel('Air pressure [pa]')\n",
    "plt.legend()"
   ]
  },
  {
   "cell_type": "markdown",
   "id": "3668e396",
   "metadata": {
    "tags": []
   },
   "source": [
    "A final step on this particular plot. You can use\n",
    "all of this functionality in loops so that your code\n",
    "is a bit shorter and easier to modify. Let's look at\n",
    "how"
   ]
  },
  {
   "cell_type": "code",
   "execution_count": null,
   "id": "dbc34dce",
   "metadata": {
    "tags": []
   },
   "outputs": [],
   "source": [
    "temps = [273, 293, 313, 333]\n",
    "for T in temps:\n",
    "    p_temp = air_pressure_at_height(heights, T0=T)\n",
    "    plt.plot(heights, p_temp, label='T='+str(T)+'K')\n",
    "\n",
    "plt.xlabel('Height above sea level [m]')\n",
    "plt.ylabel('Air pressure [pa]')\n",
    "plt.legend()"
   ]
  },
  {
   "cell_type": "markdown",
   "id": "66cb449e-516e-4bfa-a497-f884c5555a70",
   "metadata": {},
   "source": [
    "# TODO: Can you make the previous plot as a scatter plot?\n",
    "\n",
    "Note: Use `plt.scatter()`"
   ]
  },
  {
   "cell_type": "code",
   "execution_count": null,
   "id": "0aa3f83b-857b-433d-a4f3-8eb246d712a5",
   "metadata": {},
   "outputs": [],
   "source": [
    "# please insert the codes here"
   ]
  },
  {
   "cell_type": "markdown",
   "id": "02d65187",
   "metadata": {
    "tags": []
   },
   "source": [
    "Okay, line plots are cool, but what else can\n",
    "matplotlib do? Let's look at images. So for this\n",
    "one we'll first run the air pressure function over\n",
    "many different temperatures. \n",
    "\n",
    "We then `stack` the results of our loop, which just\n",
    "makes the whole thing a numpy array rather than a \n",
    "list of numpy arrays. This is so matplotlib can \n",
    "interpret what we want. \n",
    "\n",
    "QUIZ: What's the resulting dimension of `pressures`\n",
    "      after calling np.stack ?\n",
    "\n",
    "Finally we call  `plt.colorbar` just so we know what\n",
    "the values for the different colors are."
   ]
  },
  {
   "cell_type": "code",
   "execution_count": null,
   "id": "f64ffd03",
   "metadata": {
    "tags": []
   },
   "outputs": [],
   "source": [
    "temps = np.arange(200, 400, 1)\n",
    "pressures = []\n",
    "for T in temps:\n",
    "    p_new = air_pressure_at_height(heights, T0=T)\n",
    "    pressures.append(p_new)\n",
    "\n",
    "# Stack just sticks a list of numpy arrays \n",
    "# together along a new dimension\n",
    "pressures = np.stack(pressures)\n",
    "ax = plt.imshow(pressures)\n",
    "plt.colorbar(\n",
    "    fraction=0.02,  # Just shrinking the size of it\n",
    "    label='Pressure [pa]'\n",
    ")"
   ]
  },
  {
   "cell_type": "markdown",
   "id": "f139a587",
   "metadata": {
    "tags": []
   },
   "source": [
    "Hmmm, now we're back to the problem where\n",
    "we don't know what the x and y axes represent.\n",
    "To fix this we'll need to get into a slightly more\n",
    "complex way of plotting. This mode requires more code\n",
    "but is better for flexibility. For exploratory analysis \n",
    "you can usually get away with just calling `plt.WHATEVER`\n",
    "but this way of explicitly creating the `plt.figure` is\n",
    "usually better for detailed plotting.\n",
    "\n",
    "This one is a little bit complicated so it's okay if\n",
    "it doesn't click right now, but I wanted to show it\n",
    "because it is something common to need to make, but\n",
    "a bit difficult, so I wanted to provide a reference.\n",
    "This took me ~10 mins to re-figure out even though\n",
    "I have been using matplotlib since ~2012."
   ]
  },
  {
   "cell_type": "code",
   "execution_count": null,
   "id": "a5a09e73",
   "metadata": {
    "tags": []
   },
   "outputs": [],
   "source": [
    "fig, ax = plt.subplots()\n",
    "\n",
    "img = ax.imshow(pressures, cmap='turbo')\n",
    "fig.colorbar(\n",
    "    img, \n",
    "    fraction=0.02,\n",
    "    label='Pressure [pa]'\n",
    ")\n",
    "\n",
    "# Ticks are where the labels are\n",
    "# and ticklabels are what the labels are\n",
    "xticks = np.arange(25, len(heights), 50)\n",
    "ax.set_xticks(xticks)\n",
    "ax.set_xticklabels(heights[xticks])\n",
    "ax.set_xlabel('Elevation [m]')\n",
    "\n",
    "# We do this for both the x and y dims\n",
    "yticks = np.arange(25, len(temps), 50)\n",
    "ax.set_yticks(yticks)\n",
    "ax.set_yticklabels(temps[yticks])\n",
    "ax.set_ylabel('Temperature [K]')\n",
    "# %%"
   ]
  },
  {
   "cell_type": "code",
   "execution_count": null,
   "id": "b8119a32",
   "metadata": {},
   "outputs": [],
   "source": []
  }
 ],
 "metadata": {
  "kernelspec": {
   "display_name": "Python 3 (ipykernel)",
   "language": "python",
   "name": "python3"
  },
  "language_info": {
   "codemirror_mode": {
    "name": "ipython",
    "version": 3
   },
   "file_extension": ".py",
   "mimetype": "text/x-python",
   "name": "python",
   "nbconvert_exporter": "python",
   "pygments_lexer": "ipython3",
   "version": "3.9.7"
  }
 },
 "nbformat": 4,
 "nbformat_minor": 5
}
