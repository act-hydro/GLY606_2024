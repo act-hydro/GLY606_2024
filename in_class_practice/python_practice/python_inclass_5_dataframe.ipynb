{
 "cells": [
  {
   "cell_type": "code",
   "execution_count": 1,
   "id": "d6d3f031-1952-4382-8f1e-c42cce1df994",
   "metadata": {},
   "outputs": [],
   "source": [
    "%matplotlib inline"
   ]
  },
  {
   "cell_type": "code",
   "execution_count": 2,
   "id": "b4b9f742-3901-48d0-9d3e-903d8d928ede",
   "metadata": {},
   "outputs": [],
   "source": [
    "import numpy as np\n",
    "import matplotlib.pyplot as plt\n",
    "import pandas as pd"
   ]
  },
  {
   "cell_type": "markdown",
   "id": "909aa618-08ba-4407-8e70-d765da1b3767",
   "metadata": {},
   "source": [
    "# 1. Pandas series\n",
    "We can create a panda series using **pd.Series**. </br>\n",
    "pd.Series is very much like a dictionary that we can use an `index` to find the corresponding value (In dictionary, we use `keys`)."
   ]
  },
  {
   "cell_type": "code",
   "execution_count": 16,
   "id": "2b4e96f5-b6d1-4424-bff8-2fe285cd43d1",
   "metadata": {},
   "outputs": [
    {
     "data": {
      "text/plain": [
       "tom       105\n",
       "bob       306\n",
       "nancy    3560\n",
       "dan      1200\n",
       "eric       50\n",
       "dtype: int64"
      ]
     },
     "execution_count": 16,
     "metadata": {},
     "output_type": "execute_result"
    }
   ],
   "source": [
    "ser = pd.Series([105,306,3560,1200,50],\n",
    "                index = ['tom','bob','nancy','dan','eric'])\n",
    "ser"
   ]
  },
  {
   "cell_type": "markdown",
   "id": "97d080fd-2bc3-4e71-ab0f-7d1e60deb95a",
   "metadata": {},
   "source": [
    "## 1.1. Indexing and select for pd.Series\n",
    "\n",
    "### 1.1.1. Select single item\n",
    "We can select using index! </br>The syntax would be `ser.loc[Index]`"
   ]
  },
  {
   "cell_type": "code",
   "execution_count": 14,
   "id": "e03ac822-9b58-4579-a62d-6dded19a4c33",
   "metadata": {},
   "outputs": [
    {
     "data": {
      "text/plain": [
       "100"
      ]
     },
     "execution_count": 14,
     "metadata": {},
     "output_type": "execute_result"
    }
   ],
   "source": [
    "ser.loc['tom']"
   ]
  },
  {
   "cell_type": "markdown",
   "id": "01329547-f8fe-423e-9e97-aedb5535d4c3",
   "metadata": {
    "tags": []
   },
   "source": [
    "We can also select based on their relative location. </br>\n",
    "For example, we want to select the third item from the Series! </br>\n",
    "The syntax is `ser.iloc[Number]`"
   ]
  },
  {
   "cell_type": "code",
   "execution_count": 18,
   "id": "4e204df1-f268-4aed-a462-f2da271ba23b",
   "metadata": {},
   "outputs": [
    {
     "data": {
      "text/plain": [
       "3560"
      ]
     },
     "execution_count": 18,
     "metadata": {},
     "output_type": "execute_result"
    }
   ],
   "source": [
    "ser.iloc[2]"
   ]
  },
  {
   "cell_type": "markdown",
   "id": "8adb0b35-7458-40c6-b1c2-abf26456fe04",
   "metadata": {},
   "source": [
    "### 1.1.2. select multiple items!\n",
    "Of course, we can select multiple items! </br>\n",
    "The syntax is `ser.loc[<list of index>]`"
   ]
  },
  {
   "cell_type": "code",
   "execution_count": 19,
   "id": "e5082ecb-d446-4bde-9ee3-e66111663ddb",
   "metadata": {},
   "outputs": [
    {
     "data": {
      "text/plain": [
       "tom       105\n",
       "nancy    3560\n",
       "dtype: int64"
      ]
     },
     "execution_count": 19,
     "metadata": {},
     "output_type": "execute_result"
    }
   ],
   "source": [
    "ser.loc[['tom','nancy']]"
   ]
  },
  {
   "cell_type": "markdown",
   "id": "104f94b4-ab1b-480a-a796-0c8a6c1e20d8",
   "metadata": {},
   "source": [
    "#### Practice #1: What if we want to select the 1st, 3rd, and 4th items from the Series?"
   ]
  },
  {
   "cell_type": "code",
   "execution_count": 39,
   "id": "2bee2d0a-a707-4011-9bbd-73cc232ce0b5",
   "metadata": {},
   "outputs": [],
   "source": [
    "# TODO: INSERT YOUR CODE HERE"
   ]
  },
  {
   "cell_type": "markdown",
   "id": "23d3d9bd-7ea8-4476-9875-e45b76152838",
   "metadata": {},
   "source": [
    "# 2. Pandas DataFrame\n",
    "## 2.1. create dataframe\n",
    "### 2.1.2 create dataframe using pandas series\n",
    "We can create pandas dataframe using pandas series."
   ]
  },
  {
   "cell_type": "code",
   "execution_count": 23,
   "id": "526531e1-2ed4-467d-9a67-e79708b6d846",
   "metadata": {},
   "outputs": [],
   "source": [
    "ser1 = pd.Series(['red','blue','orange','pink','green'],\n",
    "                 index = ['tom','bob','nancy','dan','eric'])\n",
    "\n",
    "df = pd.DataFrame({'Fav_number':ser,\n",
    "                   'Fav_color':ser1})"
   ]
  },
  {
   "cell_type": "code",
   "execution_count": 24,
   "id": "d3a06779-b8af-46d7-befc-d3ec948c7876",
   "metadata": {},
   "outputs": [
    {
     "data": {
      "text/html": [
       "<div>\n",
       "<style scoped>\n",
       "    .dataframe tbody tr th:only-of-type {\n",
       "        vertical-align: middle;\n",
       "    }\n",
       "\n",
       "    .dataframe tbody tr th {\n",
       "        vertical-align: top;\n",
       "    }\n",
       "\n",
       "    .dataframe thead th {\n",
       "        text-align: right;\n",
       "    }\n",
       "</style>\n",
       "<table border=\"1\" class=\"dataframe\">\n",
       "  <thead>\n",
       "    <tr style=\"text-align: right;\">\n",
       "      <th></th>\n",
       "      <th>Fav_number</th>\n",
       "      <th>Fav_color</th>\n",
       "    </tr>\n",
       "  </thead>\n",
       "  <tbody>\n",
       "    <tr>\n",
       "      <th>tom</th>\n",
       "      <td>105</td>\n",
       "      <td>red</td>\n",
       "    </tr>\n",
       "    <tr>\n",
       "      <th>bob</th>\n",
       "      <td>306</td>\n",
       "      <td>blue</td>\n",
       "    </tr>\n",
       "    <tr>\n",
       "      <th>nancy</th>\n",
       "      <td>3560</td>\n",
       "      <td>orange</td>\n",
       "    </tr>\n",
       "    <tr>\n",
       "      <th>dan</th>\n",
       "      <td>1200</td>\n",
       "      <td>pink</td>\n",
       "    </tr>\n",
       "    <tr>\n",
       "      <th>eric</th>\n",
       "      <td>50</td>\n",
       "      <td>green</td>\n",
       "    </tr>\n",
       "  </tbody>\n",
       "</table>\n",
       "</div>"
      ],
      "text/plain": [
       "       Fav_number Fav_color\n",
       "tom           105       red\n",
       "bob           306      blue\n",
       "nancy        3560    orange\n",
       "dan          1200      pink\n",
       "eric           50     green"
      ]
     },
     "execution_count": 24,
     "metadata": {},
     "output_type": "execute_result"
    }
   ],
   "source": [
    "df"
   ]
  },
  {
   "cell_type": "markdown",
   "id": "53034ea7-9366-4ebd-a649-5229659f0460",
   "metadata": {},
   "source": [
    "### 2.1.2 Create dataframe using numpy array\n",
    "We can also create pandas dataframe using numpy 2d array! </br>\n",
    "Following is an example!\n",
    "\n",
    "Tom, Bob, and Nancy took three guesses for a number between 1 and 100. "
   ]
  },
  {
   "cell_type": "code",
   "execution_count": 49,
   "id": "a55500dd-3d5b-45c1-92a0-41bab2930b45",
   "metadata": {},
   "outputs": [],
   "source": [
    "array_2d = np.random.randint(low=1, high=100, size=(3,3))\n",
    "\n",
    "df_guess = pd.DataFrame(array_2d,index=['tom','bob','nancy'],\n",
    "                             columns=['guess 1', 'guess 2', 'guess 3'])"
   ]
  },
  {
   "cell_type": "code",
   "execution_count": 50,
   "id": "ad1473c4-5ce2-4ab6-bf66-2a1fff2d71d9",
   "metadata": {},
   "outputs": [
    {
     "data": {
      "text/html": [
       "<div>\n",
       "<style scoped>\n",
       "    .dataframe tbody tr th:only-of-type {\n",
       "        vertical-align: middle;\n",
       "    }\n",
       "\n",
       "    .dataframe tbody tr th {\n",
       "        vertical-align: top;\n",
       "    }\n",
       "\n",
       "    .dataframe thead th {\n",
       "        text-align: right;\n",
       "    }\n",
       "</style>\n",
       "<table border=\"1\" class=\"dataframe\">\n",
       "  <thead>\n",
       "    <tr style=\"text-align: right;\">\n",
       "      <th></th>\n",
       "      <th>guess 1</th>\n",
       "      <th>guess 2</th>\n",
       "      <th>guess 3</th>\n",
       "    </tr>\n",
       "  </thead>\n",
       "  <tbody>\n",
       "    <tr>\n",
       "      <th>tom</th>\n",
       "      <td>85</td>\n",
       "      <td>94</td>\n",
       "      <td>29</td>\n",
       "    </tr>\n",
       "    <tr>\n",
       "      <th>bob</th>\n",
       "      <td>87</td>\n",
       "      <td>62</td>\n",
       "      <td>24</td>\n",
       "    </tr>\n",
       "    <tr>\n",
       "      <th>nancy</th>\n",
       "      <td>41</td>\n",
       "      <td>43</td>\n",
       "      <td>23</td>\n",
       "    </tr>\n",
       "  </tbody>\n",
       "</table>\n",
       "</div>"
      ],
      "text/plain": [
       "       guess 1  guess 2  guess 3\n",
       "tom         85       94       29\n",
       "bob         87       62       24\n",
       "nancy       41       43       23"
      ]
     },
     "execution_count": 50,
     "metadata": {},
     "output_type": "execute_result"
    }
   ],
   "source": [
    "df_guess"
   ]
  },
  {
   "cell_type": "markdown",
   "id": "3c609cee-21e8-431b-826a-8dc55761fc4d",
   "metadata": {},
   "source": [
    "## 2.2. Index and select for pd.DataFrame\n",
    "\n",
    "### 2.2.1. select single items\n",
    "For example, what if I want to know Tom's first guess?"
   ]
  },
  {
   "cell_type": "code",
   "execution_count": 51,
   "id": "b8b25cbe-3cf5-4209-812f-612f9f7d5432",
   "metadata": {},
   "outputs": [
    {
     "data": {
      "text/plain": [
       "85"
      ]
     },
     "execution_count": 51,
     "metadata": {},
     "output_type": "execute_result"
    }
   ],
   "source": [
    "df_guess.loc['tom','guess 1']"
   ]
  },
  {
   "cell_type": "markdown",
   "id": "8b76ee50-3f73-45cb-bcdd-0b13c3ad0a11",
   "metadata": {},
   "source": [
    "Since we know Tom was the first in the ranking, we can also use `iloc`"
   ]
  },
  {
   "cell_type": "code",
   "execution_count": 52,
   "id": "1be0fd34-6473-4fe9-b43a-b7ea0a99bea8",
   "metadata": {},
   "outputs": [
    {
     "data": {
      "text/plain": [
       "85"
      ]
     },
     "execution_count": 52,
     "metadata": {},
     "output_type": "execute_result"
    }
   ],
   "source": [
    "df_guess.iloc[0,0]"
   ]
  },
  {
   "cell_type": "markdown",
   "id": "f5efcb02-8c31-422d-a1fb-e845a51fb9d3",
   "metadata": {
    "tags": []
   },
   "source": [
    "### 2.2.2. select multiple items\n",
    "\n",
    "For example, if we want to know Tom's first two guess?"
   ]
  },
  {
   "cell_type": "code",
   "execution_count": 53,
   "id": "58a0a063-485c-453c-b559-5bdba81e3dd2",
   "metadata": {},
   "outputs": [
    {
     "data": {
      "text/plain": [
       "guess 1    85\n",
       "guess 2    94\n",
       "Name: tom, dtype: int64"
      ]
     },
     "execution_count": 53,
     "metadata": {},
     "output_type": "execute_result"
    }
   ],
   "source": [
    "df_guess.loc['tom',['guess 1','guess 2']]"
   ]
  },
  {
   "cell_type": "markdown",
   "id": "03838c5c-8f18-44e5-b45a-1e35fd7090cd",
   "metadata": {},
   "source": [
    "#### If we want to know the first guess of Tom and Bob?"
   ]
  },
  {
   "cell_type": "code",
   "execution_count": 54,
   "id": "d3d08155-928b-441c-acf9-d52cc50ec2f0",
   "metadata": {},
   "outputs": [
    {
     "data": {
      "text/plain": [
       "tom    85\n",
       "bob    87\n",
       "Name: guess 1, dtype: int64"
      ]
     },
     "execution_count": 54,
     "metadata": {},
     "output_type": "execute_result"
    }
   ],
   "source": [
    "df_guess.loc[['tom','bob'],'guess 1']"
   ]
  },
  {
   "cell_type": "markdown",
   "id": "9c283fe5-9e54-4565-a202-8bce4bbcd193",
   "metadata": {},
   "source": [
    "#### Practice! What if we want to know Tom and Nancy's third guess using `iloc`? "
   ]
  },
  {
   "cell_type": "code",
   "execution_count": 44,
   "id": "59702e14-8e52-4717-b1fe-e176c2b8566a",
   "metadata": {},
   "outputs": [],
   "source": [
    "# TODO: INSERT YOUR CODE HERE"
   ]
  },
  {
   "cell_type": "markdown",
   "id": "b559f6ef-4374-4013-b4f8-02b3cae82c4b",
   "metadata": {},
   "source": [
    "### 2.3. Simple calculations!\n",
    "#### What's the largest guess from Tom, Bob and Nancy?"
   ]
  },
  {
   "cell_type": "code",
   "execution_count": 55,
   "id": "08348bc9-3b73-4b2b-8b00-828a860180fa",
   "metadata": {},
   "outputs": [
    {
     "data": {
      "text/plain": [
       "tom      94\n",
       "bob      87\n",
       "nancy    43\n",
       "dtype: int64"
      ]
     },
     "execution_count": 55,
     "metadata": {},
     "output_type": "execute_result"
    }
   ],
   "source": [
    "df_guess.max(axis=1)"
   ]
  },
  {
   "cell_type": "markdown",
   "id": "d7fd5b8f-f1c8-4578-966f-0c694273e8f2",
   "metadata": {},
   "source": [
    "#### Practice #3: what if we want to know the smallest guess for Tom, Bob, and Nancy?"
   ]
  },
  {
   "cell_type": "code",
   "execution_count": 46,
   "id": "d8387cdd-a4ea-4a1b-92c7-b8843a653fc1",
   "metadata": {},
   "outputs": [],
   "source": [
    "# TODO: INSERT YOUR CODE HERE"
   ]
  },
  {
   "cell_type": "markdown",
   "id": "64d78929-e51e-4b2e-9c0d-c5185f44a955",
   "metadata": {},
   "source": [
    "#### Which player has the biggest difference among their three guess?"
   ]
  },
  {
   "cell_type": "code",
   "execution_count": 56,
   "id": "e7839549-fe6e-480f-9f7a-4babc83fc0ad",
   "metadata": {},
   "outputs": [],
   "source": [
    "# Step 1: calculate the difference between their \n",
    "# largest guess and their smallest guess\n",
    "df_guess['guess diff'] = df_guess.max(axis=1) - df_guess.min(axis=1)"
   ]
  },
  {
   "cell_type": "code",
   "execution_count": 57,
   "id": "0a6548ef-e85b-466c-8e78-4a83a8f5e82f",
   "metadata": {},
   "outputs": [
    {
     "data": {
      "text/html": [
       "<div>\n",
       "<style scoped>\n",
       "    .dataframe tbody tr th:only-of-type {\n",
       "        vertical-align: middle;\n",
       "    }\n",
       "\n",
       "    .dataframe tbody tr th {\n",
       "        vertical-align: top;\n",
       "    }\n",
       "\n",
       "    .dataframe thead th {\n",
       "        text-align: right;\n",
       "    }\n",
       "</style>\n",
       "<table border=\"1\" class=\"dataframe\">\n",
       "  <thead>\n",
       "    <tr style=\"text-align: right;\">\n",
       "      <th></th>\n",
       "      <th>guess 1</th>\n",
       "      <th>guess 2</th>\n",
       "      <th>guess 3</th>\n",
       "      <th>guess diff</th>\n",
       "    </tr>\n",
       "  </thead>\n",
       "  <tbody>\n",
       "    <tr>\n",
       "      <th>tom</th>\n",
       "      <td>85</td>\n",
       "      <td>94</td>\n",
       "      <td>29</td>\n",
       "      <td>65</td>\n",
       "    </tr>\n",
       "    <tr>\n",
       "      <th>bob</th>\n",
       "      <td>87</td>\n",
       "      <td>62</td>\n",
       "      <td>24</td>\n",
       "      <td>63</td>\n",
       "    </tr>\n",
       "    <tr>\n",
       "      <th>nancy</th>\n",
       "      <td>41</td>\n",
       "      <td>43</td>\n",
       "      <td>23</td>\n",
       "      <td>20</td>\n",
       "    </tr>\n",
       "  </tbody>\n",
       "</table>\n",
       "</div>"
      ],
      "text/plain": [
       "       guess 1  guess 2  guess 3  guess diff\n",
       "tom         85       94       29          65\n",
       "bob         87       62       24          63\n",
       "nancy       41       43       23          20"
      ]
     },
     "execution_count": 57,
     "metadata": {},
     "output_type": "execute_result"
    }
   ],
   "source": [
    "df_guess"
   ]
  },
  {
   "cell_type": "markdown",
   "id": "06cc5846-b372-47ad-8bae-a0aa11aaed56",
   "metadata": {},
   "source": [
    "#### we can reorder the rows based on certain numbers!"
   ]
  },
  {
   "cell_type": "code",
   "execution_count": 63,
   "id": "ebb2165d-4b20-4ce1-bf23-66fd5513ed6d",
   "metadata": {},
   "outputs": [],
   "source": [
    "# Step 2: reorder the rows based on `guess diff`\n",
    "df_guess_reorder = df_guess.sort_values('guess diff',  # based on the values in this column\n",
    "                                        axis=0,        # we would like to sort rows \n",
    "                                        ascending=False) # we want it in descending order\n"
   ]
  },
  {
   "cell_type": "code",
   "execution_count": 62,
   "id": "586899d7-4e2d-4f12-b9e0-521670915e7c",
   "metadata": {},
   "outputs": [
    {
     "data": {
      "text/html": [
       "<div>\n",
       "<style scoped>\n",
       "    .dataframe tbody tr th:only-of-type {\n",
       "        vertical-align: middle;\n",
       "    }\n",
       "\n",
       "    .dataframe tbody tr th {\n",
       "        vertical-align: top;\n",
       "    }\n",
       "\n",
       "    .dataframe thead th {\n",
       "        text-align: right;\n",
       "    }\n",
       "</style>\n",
       "<table border=\"1\" class=\"dataframe\">\n",
       "  <thead>\n",
       "    <tr style=\"text-align: right;\">\n",
       "      <th></th>\n",
       "      <th>guess 1</th>\n",
       "      <th>guess 2</th>\n",
       "      <th>guess 3</th>\n",
       "      <th>guess diff</th>\n",
       "    </tr>\n",
       "  </thead>\n",
       "  <tbody>\n",
       "    <tr>\n",
       "      <th>tom</th>\n",
       "      <td>85</td>\n",
       "      <td>94</td>\n",
       "      <td>29</td>\n",
       "      <td>65</td>\n",
       "    </tr>\n",
       "    <tr>\n",
       "      <th>bob</th>\n",
       "      <td>87</td>\n",
       "      <td>62</td>\n",
       "      <td>24</td>\n",
       "      <td>63</td>\n",
       "    </tr>\n",
       "    <tr>\n",
       "      <th>nancy</th>\n",
       "      <td>41</td>\n",
       "      <td>43</td>\n",
       "      <td>23</td>\n",
       "      <td>20</td>\n",
       "    </tr>\n",
       "  </tbody>\n",
       "</table>\n",
       "</div>"
      ],
      "text/plain": [
       "       guess 1  guess 2  guess 3  guess diff\n",
       "tom         85       94       29          65\n",
       "bob         87       62       24          63\n",
       "nancy       41       43       23          20"
      ]
     },
     "execution_count": 62,
     "metadata": {},
     "output_type": "execute_result"
    }
   ],
   "source": [
    "df_guess_reorder"
   ]
  },
  {
   "cell_type": "markdown",
   "id": "07fa3748-6151-44b7-9655-83c408218fc0",
   "metadata": {},
   "source": [
    "## 2.4. read external dataset\n",
    "\n",
    "We usually use `pd.read_csv` to read in data in csv files, usually it is time series dataset. </br>\n",
    "\n",
    "We can of course read in Excel dataset using `pd.read_excel`, which is not part of this exercise."
   ]
  },
  {
   "cell_type": "code",
   "execution_count": 67,
   "id": "fb3d9aea-e17a-41c2-8bc6-de320b051722",
   "metadata": {},
   "outputs": [],
   "source": [
    "# the parse_dates=True command interprets the date string into date objects\n",
    "# then we can start doing manipulations for the time series.\n",
    "df_usgs = pd.read_csv('flow_cfs.USGS_04216000.Niagara_river.csv',\n",
    "                      index_col=0,parse_dates=True)"
   ]
  },
  {
   "cell_type": "markdown",
   "id": "3fd0971f-0257-4110-b68b-0552a817e889",
   "metadata": {},
   "source": [
    "### 2.4.1. Quickly plot the time series!"
   ]
  },
  {
   "cell_type": "code",
   "execution_count": 68,
   "id": "d0056834-4175-42a3-8517-cd4b02c4a20c",
   "metadata": {},
   "outputs": [
    {
     "data": {
      "text/plain": [
       "<AxesSubplot: xlabel='date'>"
      ]
     },
     "execution_count": 68,
     "metadata": {},
     "output_type": "execute_result"
    },
    {
     "data": {
      "image/png": "[encoded data removed]",
      "text/plain": [
       "<Figure size 432x288 with 1 Axes>"
      ]
     },
     "metadata": {
      "needs_background": "light"
     },
     "output_type": "display_data"
    }
   ],
   "source": [
    "df_usgs['streamflow'].plot()"
   ]
  },
  {
   "cell_type": "markdown",
   "id": "d568fd00-f154-4ad8-a006-b274b3d5edf8",
   "metadata": {},
   "source": [
    "### 2.4.2. Data selection for time series\n",
    "\n",
    "#### Select individual day"
   ]
  },
  {
   "cell_type": "code",
   "execution_count": 69,
   "id": "4fa40ab9-2a06-4da6-9534-b81699fa554b",
   "metadata": {},
   "outputs": [
    {
     "data": {
      "text/plain": [
       "streamflow      211000.0\n",
       "quality_flag           A\n",
       "Name: 2022-12-31 00:00:00, dtype: object"
      ]
     },
     "execution_count": 69,
     "metadata": {},
     "output_type": "execute_result"
    }
   ],
   "source": [
    "df_usgs.loc[\"2022-12-31\"]"
   ]
  },
  {
   "cell_type": "markdown",
   "id": "49a9a221-3536-4d7b-acdc-35040b870295",
   "metadata": {},
   "source": [
    "#### Select a period of time with start and end dates"
   ]
  },
  {
   "cell_type": "code",
   "execution_count": 70,
   "id": "fe1ae9f4-6e6a-45c2-8ecb-80a70c8b0955",
   "metadata": {},
   "outputs": [
    {
     "data": {
      "text/html": [
       "<div>\n",
       "<style scoped>\n",
       "    .dataframe tbody tr th:only-of-type {\n",
       "        vertical-align: middle;\n",
       "    }\n",
       "\n",
       "    .dataframe tbody tr th {\n",
       "        vertical-align: top;\n",
       "    }\n",
       "\n",
       "    .dataframe thead th {\n",
       "        text-align: right;\n",
       "    }\n",
       "</style>\n",
       "<table border=\"1\" class=\"dataframe\">\n",
       "  <thead>\n",
       "    <tr style=\"text-align: right;\">\n",
       "      <th></th>\n",
       "      <th>streamflow</th>\n",
       "      <th>quality_flag</th>\n",
       "    </tr>\n",
       "    <tr>\n",
       "      <th>date</th>\n",
       "      <th></th>\n",
       "      <th></th>\n",
       "    </tr>\n",
       "  </thead>\n",
       "  <tbody>\n",
       "    <tr>\n",
       "      <th>2022-10-01</th>\n",
       "      <td>203000.0</td>\n",
       "      <td>A</td>\n",
       "    </tr>\n",
       "    <tr>\n",
       "      <th>2022-10-02</th>\n",
       "      <td>194000.0</td>\n",
       "      <td>A</td>\n",
       "    </tr>\n",
       "    <tr>\n",
       "      <th>2022-10-03</th>\n",
       "      <td>206000.0</td>\n",
       "      <td>A</td>\n",
       "    </tr>\n",
       "    <tr>\n",
       "      <th>2022-10-04</th>\n",
       "      <td>213000.0</td>\n",
       "      <td>A</td>\n",
       "    </tr>\n",
       "    <tr>\n",
       "      <th>2022-10-05</th>\n",
       "      <td>215000.0</td>\n",
       "      <td>A</td>\n",
       "    </tr>\n",
       "    <tr>\n",
       "      <th>...</th>\n",
       "      <td>...</td>\n",
       "      <td>...</td>\n",
       "    </tr>\n",
       "    <tr>\n",
       "      <th>2022-12-28</th>\n",
       "      <td>209000.0</td>\n",
       "      <td>A</td>\n",
       "    </tr>\n",
       "    <tr>\n",
       "      <th>2022-12-29</th>\n",
       "      <td>206000.0</td>\n",
       "      <td>A</td>\n",
       "    </tr>\n",
       "    <tr>\n",
       "      <th>2022-12-30</th>\n",
       "      <td>207000.0</td>\n",
       "      <td>A</td>\n",
       "    </tr>\n",
       "    <tr>\n",
       "      <th>2022-12-31</th>\n",
       "      <td>211000.0</td>\n",
       "      <td>A</td>\n",
       "    </tr>\n",
       "    <tr>\n",
       "      <th>2023-01-01</th>\n",
       "      <td>216000.0</td>\n",
       "      <td>A</td>\n",
       "    </tr>\n",
       "  </tbody>\n",
       "</table>\n",
       "<p>93 rows × 2 columns</p>\n",
       "</div>"
      ],
      "text/plain": [
       "            streamflow quality_flag\n",
       "date                               \n",
       "2022-10-01    203000.0            A\n",
       "2022-10-02    194000.0            A\n",
       "2022-10-03    206000.0            A\n",
       "2022-10-04    213000.0            A\n",
       "2022-10-05    215000.0            A\n",
       "...                ...          ...\n",
       "2022-12-28    209000.0            A\n",
       "2022-12-29    206000.0            A\n",
       "2022-12-30    207000.0            A\n",
       "2022-12-31    211000.0            A\n",
       "2023-01-01    216000.0            A\n",
       "\n",
       "[93 rows x 2 columns]"
      ]
     },
     "execution_count": 70,
     "metadata": {},
     "output_type": "execute_result"
    }
   ],
   "source": [
    "df_usgs.loc[slice(\"2022-10-01\",\"2023-01-01\")]"
   ]
  },
  {
   "cell_type": "markdown",
   "id": "f59e56be-6e06-4e0e-899a-eac2c770aabe",
   "metadata": {
    "tags": []
   },
   "source": [
    "#### Select a period of time (from the 100th to 200th days)"
   ]
  },
  {
   "cell_type": "code",
   "execution_count": 76,
   "id": "6b90c342-f89f-4445-9103-b618a6adc4ea",
   "metadata": {},
   "outputs": [
    {
     "data": {
      "text/html": [
       "<div>\n",
       "<style scoped>\n",
       "    .dataframe tbody tr th:only-of-type {\n",
       "        vertical-align: middle;\n",
       "    }\n",
       "\n",
       "    .dataframe tbody tr th {\n",
       "        vertical-align: top;\n",
       "    }\n",
       "\n",
       "    .dataframe thead th {\n",
       "        text-align: right;\n",
       "    }\n",
       "</style>\n",
       "<table border=\"1\" class=\"dataframe\">\n",
       "  <thead>\n",
       "    <tr style=\"text-align: right;\">\n",
       "      <th></th>\n",
       "      <th>streamflow</th>\n",
       "      <th>quality_flag</th>\n",
       "    </tr>\n",
       "    <tr>\n",
       "      <th>date</th>\n",
       "      <th></th>\n",
       "      <th></th>\n",
       "    </tr>\n",
       "  </thead>\n",
       "  <tbody>\n",
       "    <tr>\n",
       "      <th>2021-12-10</th>\n",
       "      <td>240000.0</td>\n",
       "      <td>A</td>\n",
       "    </tr>\n",
       "    <tr>\n",
       "      <th>2021-12-11</th>\n",
       "      <td>277000.0</td>\n",
       "      <td>A</td>\n",
       "    </tr>\n",
       "    <tr>\n",
       "      <th>2021-12-12</th>\n",
       "      <td>269000.0</td>\n",
       "      <td>A</td>\n",
       "    </tr>\n",
       "    <tr>\n",
       "      <th>2021-12-13</th>\n",
       "      <td>261000.0</td>\n",
       "      <td>A</td>\n",
       "    </tr>\n",
       "    <tr>\n",
       "      <th>2021-12-14</th>\n",
       "      <td>234000.0</td>\n",
       "      <td>A</td>\n",
       "    </tr>\n",
       "    <tr>\n",
       "      <th>...</th>\n",
       "      <td>...</td>\n",
       "      <td>...</td>\n",
       "    </tr>\n",
       "    <tr>\n",
       "      <th>2022-03-15</th>\n",
       "      <td>228000.0</td>\n",
       "      <td>A</td>\n",
       "    </tr>\n",
       "    <tr>\n",
       "      <th>2022-03-16</th>\n",
       "      <td>228000.0</td>\n",
       "      <td>A</td>\n",
       "    </tr>\n",
       "    <tr>\n",
       "      <th>2022-03-17</th>\n",
       "      <td>230000.0</td>\n",
       "      <td>A</td>\n",
       "    </tr>\n",
       "    <tr>\n",
       "      <th>2022-03-18</th>\n",
       "      <td>227000.0</td>\n",
       "      <td>A</td>\n",
       "    </tr>\n",
       "    <tr>\n",
       "      <th>2022-03-19</th>\n",
       "      <td>237000.0</td>\n",
       "      <td>A</td>\n",
       "    </tr>\n",
       "  </tbody>\n",
       "</table>\n",
       "<p>100 rows × 2 columns</p>\n",
       "</div>"
      ],
      "text/plain": [
       "            streamflow quality_flag\n",
       "date                               \n",
       "2021-12-10    240000.0            A\n",
       "2021-12-11    277000.0            A\n",
       "2021-12-12    269000.0            A\n",
       "2021-12-13    261000.0            A\n",
       "2021-12-14    234000.0            A\n",
       "...                ...          ...\n",
       "2022-03-15    228000.0            A\n",
       "2022-03-16    228000.0            A\n",
       "2022-03-17    230000.0            A\n",
       "2022-03-18    227000.0            A\n",
       "2022-03-19    237000.0            A\n",
       "\n",
       "[100 rows x 2 columns]"
      ]
     },
     "execution_count": 76,
     "metadata": {},
     "output_type": "execute_result"
    }
   ],
   "source": [
    "df_usgs.iloc[slice(100,200)]"
   ]
  },
  {
   "cell_type": "markdown",
   "id": "796452e8-b44c-45ef-93d6-c830fac235c8",
   "metadata": {},
   "source": [
    "### 2.4.3. what if we want to find what day Niagara River have the highest flow?"
   ]
  },
  {
   "cell_type": "code",
   "execution_count": 80,
   "id": "8f3be985-a698-40cf-bae4-a6fad140da1f",
   "metadata": {},
   "outputs": [
    {
     "data": {
      "text/html": [
       "<div>\n",
       "<style scoped>\n",
       "    .dataframe tbody tr th:only-of-type {\n",
       "        vertical-align: middle;\n",
       "    }\n",
       "\n",
       "    .dataframe tbody tr th {\n",
       "        vertical-align: top;\n",
       "    }\n",
       "\n",
       "    .dataframe thead th {\n",
       "        text-align: right;\n",
       "    }\n",
       "</style>\n",
       "<table border=\"1\" class=\"dataframe\">\n",
       "  <thead>\n",
       "    <tr style=\"text-align: right;\">\n",
       "      <th></th>\n",
       "      <th>streamflow</th>\n",
       "      <th>quality_flag</th>\n",
       "    </tr>\n",
       "    <tr>\n",
       "      <th>date</th>\n",
       "      <th></th>\n",
       "      <th></th>\n",
       "    </tr>\n",
       "  </thead>\n",
       "  <tbody>\n",
       "    <tr>\n",
       "      <th>2022-12-14</th>\n",
       "      <td>191000.0</td>\n",
       "      <td>A</td>\n",
       "    </tr>\n",
       "    <tr>\n",
       "      <th>2022-12-09</th>\n",
       "      <td>192000.0</td>\n",
       "      <td>A</td>\n",
       "    </tr>\n",
       "    <tr>\n",
       "      <th>2022-12-10</th>\n",
       "      <td>193000.0</td>\n",
       "      <td>A</td>\n",
       "    </tr>\n",
       "    <tr>\n",
       "      <th>2022-10-02</th>\n",
       "      <td>194000.0</td>\n",
       "      <td>A</td>\n",
       "    </tr>\n",
       "    <tr>\n",
       "      <th>2022-12-15</th>\n",
       "      <td>196000.0</td>\n",
       "      <td>A</td>\n",
       "    </tr>\n",
       "    <tr>\n",
       "      <th>...</th>\n",
       "      <td>...</td>\n",
       "      <td>...</td>\n",
       "    </tr>\n",
       "    <tr>\n",
       "      <th>2021-12-11</th>\n",
       "      <td>277000.0</td>\n",
       "      <td>A</td>\n",
       "    </tr>\n",
       "    <tr>\n",
       "      <th>2021-12-06</th>\n",
       "      <td>282000.0</td>\n",
       "      <td>A</td>\n",
       "    </tr>\n",
       "    <tr>\n",
       "      <th>2022-12-23</th>\n",
       "      <td>314000.0</td>\n",
       "      <td>A</td>\n",
       "    </tr>\n",
       "    <tr>\n",
       "      <th>2022-12-24</th>\n",
       "      <td>339000.0</td>\n",
       "      <td>A</td>\n",
       "    </tr>\n",
       "    <tr>\n",
       "      <th>2022-09-30</th>\n",
       "      <td>NaN</td>\n",
       "      <td>NaN</td>\n",
       "    </tr>\n",
       "  </tbody>\n",
       "</table>\n",
       "<p>730 rows × 2 columns</p>\n",
       "</div>"
      ],
      "text/plain": [
       "            streamflow quality_flag\n",
       "date                               \n",
       "2022-12-14    191000.0            A\n",
       "2022-12-09    192000.0            A\n",
       "2022-12-10    193000.0            A\n",
       "2022-10-02    194000.0            A\n",
       "2022-12-15    196000.0            A\n",
       "...                ...          ...\n",
       "2021-12-11    277000.0            A\n",
       "2021-12-06    282000.0            A\n",
       "2022-12-23    314000.0            A\n",
       "2022-12-24    339000.0            A\n",
       "2022-09-30         NaN          NaN\n",
       "\n",
       "[730 rows x 2 columns]"
      ]
     },
     "execution_count": 80,
     "metadata": {},
     "output_type": "execute_result"
    }
   ],
   "source": [
    "df_usgs.sort_values('streamflow',axis=0)"
   ]
  },
  {
   "cell_type": "markdown",
   "id": "8a0b087a-5b27-40bb-9041-b93517ad82df",
   "metadata": {},
   "source": [
    "### 2.4.4. How can we get the monthly averaged flow? `df.resample`\n",
    "'MS' denotes the start of the month, it collects all data points within that month"
   ]
  },
  {
   "cell_type": "code",
   "execution_count": 107,
   "id": "71ce6ec8-0eb7-4867-85e6-f95db3877823",
   "metadata": {},
   "outputs": [],
   "source": [
    "df_usgs_monthly = df_usgs[['streamflow']].resample('MS').mean()"
   ]
  },
  {
   "cell_type": "code",
   "execution_count": 108,
   "id": "f85505bb-513c-48f6-98d3-db9467e76588",
   "metadata": {},
   "outputs": [
    {
     "data": {
      "text/plain": [
       "<AxesSubplot: xlabel='date'>"
      ]
     },
     "execution_count": 108,
     "metadata": {},
     "output_type": "execute_result"
    },
    {
     "data": {
      "image/png": "[encoded data removed]",
      "text/plain": [
       "<Figure size 1800x1200 with 1 Axes>"
      ]
     },
     "metadata": {
      "needs_background": "light"
     },
     "output_type": "display_data"
    }
   ],
   "source": [
    "fig,ax=plt.subplots(1,1,dpi=300)\n",
    "df_usgs_monthly.plot(ax=ax)\n"
   ]
  },
  {
   "cell_type": "markdown",
   "id": "f2d6879b-8af6-43b0-b718-0a0e1e498d58",
   "metadata": {},
   "source": [
    "### 2.3.5. How can we get the mean monthly flow across the two years? `df.groupby`"
   ]
  },
  {
   "cell_type": "code",
   "execution_count": 113,
   "id": "176ef375-7b66-4685-95df-2d68a4037608",
   "metadata": {},
   "outputs": [],
   "source": [
    "df_usgs_mean_monthly = df_usgs_monthly.groupby(df_usgs_monthly.index.month).mean()"
   ]
  },
  {
   "cell_type": "code",
   "execution_count": 115,
   "id": "bdc0d827-3267-46a8-807c-149a09d27798",
   "metadata": {},
   "outputs": [
    {
     "data": {
      "text/plain": [
       "<AxesSubplot: xlabel='date'>"
      ]
     },
     "execution_count": 115,
     "metadata": {},
     "output_type": "execute_result"
    },
    {
     "data": {
      "image/png": "[encoded data removed]",
      "text/plain": [
       "<Figure size 432x288 with 1 Axes>"
      ]
     },
     "metadata": {
      "needs_background": "light"
     },
     "output_type": "display_data"
    }
   ],
   "source": [
    "df_usgs_mean_monthly.plot()"
   ]
  },
  {
   "cell_type": "code",
   "execution_count": null,
   "id": "6e212971-04de-4225-a534-3f330857192e",
   "metadata": {},
   "outputs": [],
   "source": []
  }
 ],
 "metadata": {
  "kernelspec": {
   "display_name": "Python 3 (ipykernel)",
   "language": "python",
   "name": "python3"
  },
  "language_info": {
   "codemirror_mode": {
    "name": "ipython",
    "version": 3
   },
   "file_extension": ".py",
   "mimetype": "text/x-python",
   "name": "python",
   "nbconvert_exporter": "python",
   "pygments_lexer": "ipython3",
   "version": "3.9.7"
  }
 },
 "nbformat": 4,
 "nbformat_minor": 5
}
