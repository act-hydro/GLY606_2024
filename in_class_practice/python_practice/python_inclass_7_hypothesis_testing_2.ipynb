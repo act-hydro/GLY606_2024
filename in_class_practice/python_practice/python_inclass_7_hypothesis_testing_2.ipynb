{
 "cells": [
  {
   "cell_type": "markdown",
   "metadata": {},
   "source": [
    "# In Class Practice #7-2: More Hypothesis Testing\n",
    "---"
   ]
  },
  {
   "cell_type": "code",
   "execution_count": null,
   "metadata": {},
   "outputs": [],
   "source": [
    "# import libraries we'll need\n",
    "import pandas as pd\n",
    "import numpy as np\n",
    "import scipy.stats as stats\n",
    "import matplotlib.pyplot as plt\n",
    "%matplotlib inline"
   ]
  },
  {
   "cell_type": "markdown",
   "metadata": {},
   "source": [
    "## Two-sample T-Test for small sample sizes (n<30)\n",
    "\n",
    "We have instantaneous monthly observations of dissolved organic carbon (DOC) in two streams over the course of one water year (October-September). **In all following three tests, Please use a two-sample, two-sided, t-test to determine:**\n",
    "\n",
    "### Practice 1. Using data for all 12 months, with what confidence can we say that the annual mean DOC concentrations are different between the two streams?"
   ]
  },
  {
   "cell_type": "code",
   "execution_count": null,
   "metadata": {
    "tags": []
   },
   "outputs": [],
   "source": [
    "wy_month_labels = ['Oct', 'Nov', 'Dec', 'Jan', 'Feb', 'Mar', 'Apr', 'May', 'Jun', 'Jul', 'Aug', 'Sep']\n",
    "wy_month_numbers = np.arange(12)+1"
   ]
  },
  {
   "cell_type": "code",
   "execution_count": null,
   "metadata": {
    "tags": []
   },
   "outputs": [],
   "source": [
    "# DOC for the first stream, mg/L\n",
    "doc_1 = [65.3, 98.4, 113.1, 120.5, 105.3, 100.3, 92.3, 97.5, 88.2, 89.5, 72.1, 61.9]\n",
    "# DOC for the second stream, mg/L\n",
    "doc_2 = [62.0, 50.7, 30.9, 52.5, 98.7, 95.8, 99.3, 110.2, 104.9, 96.4, 82.5, 75.5]"
   ]
  },
  {
   "cell_type": "markdown",
   "metadata": {},
   "source": [
    "### If you do not remember how to calculate T-score, you can either check slides or this wiki page\n",
    "https://en.wikipedia.org/wiki/Student%27s_t-test#Equal_or_unequal_sample_sizes,_similar_variances_(%E2%81%A01/2%E2%81%A0_%3C_%E2%81%A0sX1/sX2%E2%81%A0_%3C_2)"
   ]
  },
  {
   "cell_type": "code",
   "execution_count": null,
   "metadata": {},
   "outputs": [],
   "source": [
    "# Note that you need to enter the code to calculate the t-test yourself, based on the lecture notes or book\n"
   ]
  },
  {
   "cell_type": "code",
   "execution_count": null,
   "metadata": {},
   "outputs": [],
   "source": [
    "# Step 1: Calculate the sample mean, standard deviation, and sample size\n"
   ]
  },
  {
   "cell_type": "code",
   "execution_count": null,
   "metadata": {},
   "outputs": [],
   "source": [
    "# Step 2: Calculate the pooled standard deviation\n"
   ]
  },
  {
   "cell_type": "code",
   "execution_count": null,
   "metadata": {},
   "outputs": [],
   "source": [
    "# Step 3: Calculate T-score\n"
   ]
  },
  {
   "cell_type": "code",
   "execution_count": null,
   "metadata": {},
   "outputs": [],
   "source": [
    "# Step 4: Check the T-score table \n",
    "# (https://www.sjsu.edu/faculty/gerstman/StatPrimer/t-table.pdf)\n",
    "# or use following equations (stats.t.ppf) to check T-score threshold\n",
    "# for different confidence level\n",
    "\n",
    "# Example: degree of freedom=2, significance level: 0.05, 2-tail\n",
    "# stats.t.ppf(1 - 0.025, 2)"
   ]
  },
  {
   "cell_type": "markdown",
   "metadata": {},
   "source": [
    "### Practice #2. \n",
    "Compare the two streams again, but this time perform two tests, one for the **first 6 months** of the water year (October-March), and a second test for the **last 6 months (April-September)**.\n",
    "\n",
    "Can we say that the DOC concentrations between the two streams are different in the first half and/or second half of the water year? With what level of confidence could we say that they are different?\n"
   ]
  },
  {
   "cell_type": "markdown",
   "metadata": {},
   "source": [
    "# Chi-Squared Test for a Change in the Standard Deviation"
   ]
  },
  {
   "cell_type": "markdown",
   "metadata": {},
   "source": [
    "#### Z-tests and T-tests are designed to compare sample means. But how can we detect a change in standard deviation?\n",
    "\n",
    "Test for statistical significance of a change in the standard deviation. Note that the standard deviation does not benefit from the Central Limit Theorem. Even though it is not strictly true, assume for the moment that the sample data are derived from a normally distributed population. </br>\n",
    "\n",
    "Use a single sample test (with rejection region based on the Chi Squared distribution). Assume that the sample standard deviation from the 1929-1974 data is close to the true population standard deviation of the earlier data set. Test that the more recent sample is different from this.\n",
    "\n",
    "More details can be referred to this reading materials ([9.5 Chi Squared Test for Variance or Standard Deviation](https://openpress.usask.ca/introtoappliedstatsforpsych/chapter/9-5-chi-squared-test-for-variance-or-standard-deviation/)).\n",
    "\n"
   ]
  },
  {
   "cell_type": "code",
   "execution_count": null,
   "metadata": {},
   "outputs": [],
   "source": [
    "# Read the excel file\n",
    "niagara_data_file = 'niagara_river.peak_flow.cfs.csv'\n",
    "niagara_peak_flow = pd.read_csv(niagara_data_file,index_col=[0])\n",
    "# Preview our data\n",
    "niagara_peak_flow.head(3)\n"
   ]
  },
  {
   "cell_type": "code",
   "execution_count": null,
   "metadata": {},
   "outputs": [],
   "source": [
    "# define niagara usgs id\n",
    "niagara_id = \"04216000\"\n",
    "\n",
    "# Divide the data into the early period (before 1980) and late period (after and including 1980). \n",
    "\n",
    "niagara_before = niagara_peak_flow[ niagara_peak_flow.index < 1980 ]\n",
    "niagara_after = niagara_peak_flow[ niagara_peak_flow.index >= 1980 ]"
   ]
  },
  {
   "cell_type": "code",
   "execution_count": null,
   "metadata": {},
   "outputs": [],
   "source": [
    "# first calculate the test statistic\n",
    "sd1 = niagara_before[niagara_id].std() #we pretend this is the \"true population standard deviation)\n",
    "sd2 = niagara_after[niagara_id].std()\n",
    "m = len(niagara_after[niagara_id])\n",
    "t = (m-1)*sd2**2/sd1**2\n",
    "print(t)"
   ]
  },
  {
   "cell_type": "markdown",
   "metadata": {},
   "source": [
    "Now, we know from the lecture notes that this test statistic is a chi-squared distributed with n-1 degrees of freedom. Let’s choose that we want 95% confidence that there is a change, and therefore alpha = 0.05. In this example we are just going to test for an increase in the standard deviation (we are doing a one-sided test). We can look up our critical value in a chi-squared distribution table using our degrees of freedom and chosen alpha.\n",
    "\n",
    "How can we look this up in python?"
   ]
  },
  {
   "cell_type": "code",
   "execution_count": null,
   "metadata": {},
   "outputs": [],
   "source": [
    "stats.chi2.ppf?"
   ]
  },
  {
   "cell_type": "code",
   "execution_count": null,
   "metadata": {},
   "outputs": [],
   "source": [
    "alpha = 0.05\n",
    "vals = stats.chi2.ppf(alpha, m-1)\n",
    "print(vals)"
   ]
  },
  {
   "cell_type": "markdown",
   "metadata": {},
   "source": [
    "### Our t statistic is larger than the cut-off value from the chi-squared distribution, so we determine that yes, with 95% confidence, a change has occurred."
   ]
  },
  {
   "cell_type": "code",
   "execution_count": null,
   "metadata": {},
   "outputs": [],
   "source": []
  }
 ],
 "metadata": {
  "kernelspec": {
   "display_name": "Python 3 (ipykernel)",
   "language": "python",
   "name": "python3"
  },
  "language_info": {
   "codemirror_mode": {
    "name": "ipython",
    "version": 3
   },
   "file_extension": ".py",
   "mimetype": "text/x-python",
   "name": "python",
   "nbconvert_exporter": "python",
   "pygments_lexer": "ipython3",
   "version": "3.9.7"
  }
 },
 "nbformat": 4,
 "nbformat_minor": 4
}
