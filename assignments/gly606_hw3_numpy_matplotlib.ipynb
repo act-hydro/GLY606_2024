{
 "cells": [
  {
   "cell_type": "markdown",
   "id": "bb7832e0-54f6-4233-8034-17dfec8e3ec1",
   "metadata": {},
   "source": [
    "# HW3: Numpy and Matplotlib"
   ]
  },
  {
   "cell_type": "code",
   "execution_count": null,
   "id": "2ab05332-5d04-4119-b46b-c36e86acc0fa",
   "metadata": {},
   "outputs": [],
   "source": [
    "# This is the homework for our practice of numpy and matplotlib"
   ]
  },
  {
   "cell_type": "code",
   "execution_count": null,
   "id": "867fa7c2-6854-4d97-9bfe-87df2f2da340",
   "metadata": {},
   "outputs": [],
   "source": [
    "import numpy as np\n",
    "import matplotlib.pyplot as plt\n",
    "my_list = [0,1,2,3,4,5,6,7,8,9]\n",
    "\n",
    "# 1. check the type of my_list\n",
    "# TODO: insert your code here"
   ]
  },
  {
   "cell_type": "code",
   "execution_count": null,
   "id": "7ff7ae9d-b945-4d6b-bbbb-b780c3e75f97",
   "metadata": {},
   "outputs": [],
   "source": [
    "# 2. create an array from my_list and assign it to my_array\n",
    "my_array = None"
   ]
  },
  {
   "cell_type": "code",
   "execution_count": null,
   "id": "5aa5637b-fadf-43d3-be66-16b046e00217",
   "metadata": {},
   "outputs": [],
   "source": [
    "# 3. how do you get every three value out of my array\n",
    "# expected output: [0,3,6,9]\n",
    "y = None\n",
    "print(y)"
   ]
  },
  {
   "cell_type": "code",
   "execution_count": null,
   "id": "28ec2149-4a3f-4e43-a089-49054fe6a6a2",
   "metadata": {},
   "outputs": [],
   "source": [
    "# 4. Reshpae my_array into a 2x5 matrix.\n",
    "z = None\n",
    "print(z)"
   ]
  },
  {
   "cell_type": "code",
   "execution_count": null,
   "id": "8dc11451-5fb5-4d77-b0b1-43d4234370cf",
   "metadata": {},
   "outputs": [],
   "source": [
    "# 5. How do you take the sum of z along column?\n",
    "z_col_sum = None\n",
    "print(z_col_sum)"
   ]
  },
  {
   "cell_type": "code",
   "execution_count": null,
   "id": "206a4fc9-c454-4345-9a93-67f94a02338c",
   "metadata": {},
   "outputs": [],
   "source": [
    "# 6. create a random two dimensional array (2x100)\n",
    "array_2d = None"
   ]
  },
  {
   "cell_type": "code",
   "execution_count": null,
   "id": "d4a003d1-8417-412c-80ee-5650796d9a36",
   "metadata": {},
   "outputs": [],
   "source": [
    "# 7. calculate the sum of array_2d along column\n",
    "array_2d_col_sum = None"
   ]
  },
  {
   "cell_type": "code",
   "execution_count": null,
   "id": "3da17f5e-8026-4ef6-b69c-9cebf83a4f29",
   "metadata": {},
   "outputs": [],
   "source": [
    "# 8. calculate the exponential for every value in array_2d_col_sum\n",
    "array_2d_col_sum_exp = None"
   ]
  },
  {
   "cell_type": "code",
   "execution_count": null,
   "id": "e966191c-3a83-4fdd-8032-4b4e1c11bc25",
   "metadata": {},
   "outputs": [],
   "source": [
    "# 9. PLOTTING exercise 1\n",
    "# x-axis: array_2d_col_sum\n",
    "# y-axis: array_2d_col_sum_exp\n"
   ]
  },
  {
   "cell_type": "code",
   "execution_count": null,
   "id": "1b3fd399-64b1-4e31-a35c-7f3ed4f0d7b8",
   "metadata": {},
   "outputs": [],
   "source": [
    "# 10. PLOTTING exercise 2\n",
    "# same plot as above, but\n",
    "# a. add xlabel \"random number\"\n",
    "# b. add ylabel \"exponential\"\n",
    "# c. change marker size (5) and color (red)\n",
    "# d. change maker to square\n"
   ]
  },
  {
   "cell_type": "code",
   "execution_count": null,
   "id": "67c95638-9c56-4fd9-8622-1211e27ffb98",
   "metadata": {},
   "outputs": [],
   "source": [
    "# 11. PLOTTING exercise 3\n",
    "# add up to plotting exercise 2\n",
    "# a. we want to use the marker colors to indicate the values of \n",
    "#    first row of array_2d, using colormap \"Greens\"\n",
    "# b. add a colorbar\n",
    "# Hint: in the plt.scatter function, values need to be assigned to \"c\",\n",
    "#       colormaps are defined using \"cmap\"\n"
   ]
  },
  {
   "cell_type": "code",
   "execution_count": null,
   "id": "cb8b3742-8954-432e-935a-66efb33ee9d6",
   "metadata": {},
   "outputs": [],
   "source": [
    "# 12. PLOTTING exercise 4\n",
    "#     Please plot a histogram for \"array_2d_col_sum_exp\"\n",
    "#     bins is a continous array from 1 to 8, i.e. [1,2,...,8]\n"
   ]
  },
  {
   "cell_type": "markdown",
   "id": "ff7522fb-8d8d-45fb-bbf6-2afb93398f0e",
   "metadata": {},
   "source": [
    "# Subplots exercise"
   ]
  },
  {
   "cell_type": "code",
   "execution_count": null,
   "id": "0951b2d4-fbe0-42d7-93a9-25c4212984e0",
   "metadata": {},
   "outputs": [],
   "source": [
    "# 13. Calculate sine function for x_1d\n",
    "#     Calculate cosine function for y_1d\n",
    "x_1d = np.linspace(-5 * np.pi, 5 * np.pi, 1000)\n",
    "y_1d = np.linspace(-5 * np.pi, 5 * np.pi, 1000)\n"
   ]
  },
  {
   "cell_type": "code",
   "execution_count": null,
   "id": "99120959-fde8-46b7-b975-6b3b0a6dbcac",
   "metadata": {},
   "outputs": [],
   "source": [
    "# 14. PLOTTING exercise #5\n",
    "# In one figure, plot two subplots (1 row, 2 columns)\n",
    "# In the first subplot, do a line plot show sine function for x_1d\n",
    "# In the second subplot, do a line plot show cosine function for y_1d\n"
   ]
  },
  {
   "cell_type": "markdown",
   "id": "1b76cb74-d62f-4981-b142-72f6bc0fe619",
   "metadata": {},
   "source": [
    "## Matrix calculation "
   ]
  },
  {
   "cell_type": "code",
   "execution_count": null,
   "id": "3e78a60f-ac5d-46b6-a662-812dc473019b",
   "metadata": {},
   "outputs": [],
   "source": [
    "# 15. Reshape x_1d_sin to a 1000x1 matrix\n",
    "#     Reshape y_1d_cos to a 1x1000 matrix\n"
   ]
  },
  {
   "cell_type": "code",
   "execution_count": null,
   "id": "751d950d-eaba-403b-9c06-50ef8595f355",
   "metadata": {},
   "outputs": [],
   "source": [
    "# 16. Calculate the dot product of x_1d_sin_matrix and y_1d_cos_matrix\n",
    "# Expected output: you would get a matrix of size 1000x1000\n"
   ]
  },
  {
   "cell_type": "code",
   "execution_count": null,
   "id": "e743a64a-ec55-48b7-8afc-54c94d614058",
   "metadata": {},
   "outputs": [],
   "source": [
    "# 17. PLOTTING exercise 6\n",
    "# plot a 2d plot for z, use \"Greys\" colormap, and add a colorbar\n"
   ]
  },
  {
   "cell_type": "code",
   "execution_count": null,
   "id": "03e32a68-cc65-4164-9410-a077e983b41c",
   "metadata": {},
   "outputs": [],
   "source": []
  },
  {
   "cell_type": "code",
   "execution_count": null,
   "id": "fac413f4-8aca-4770-8c74-9b14b757141f",
   "metadata": {},
   "outputs": [],
   "source": []
  }
 ],
 "metadata": {
  "kernelspec": {
   "display_name": "Python 3 (ipykernel)",
   "language": "python",
   "name": "python3"
  },
  "language_info": {
   "codemirror_mode": {
    "name": "ipython",
    "version": 3
   },
   "file_extension": ".py",
   "mimetype": "text/x-python",
   "name": "python",
   "nbconvert_exporter": "python",
   "pygments_lexer": "ipython3",
   "version": "3.9.7"
  }
 },
 "nbformat": 4,
 "nbformat_minor": 5
}
