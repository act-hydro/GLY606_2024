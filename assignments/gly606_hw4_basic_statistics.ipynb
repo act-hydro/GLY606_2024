{
 "cells": [
  {
   "cell_type": "markdown",
   "id": "61806b9b-f65d-42ec-95c8-8f5af91030a9",
   "metadata": {},
   "source": [
    "# HW 4: Basic Statistics"
   ]
  },
  {
   "cell_type": "markdown",
   "id": "f42cf3c0-ddfe-403a-8b26-71ee79829de4",
   "metadata": {},
   "source": [
    "#### This is the homework for our practice of 1) download USGS datasets, 2) perform Exploratory Data Analysis (EDA) for peak flow statistics"
   ]
  },
  {
   "cell_type": "code",
   "execution_count": 3,
   "id": "3475a4cb-ea60-4163-8f4b-348493f5a23d",
   "metadata": {},
   "outputs": [],
   "source": [
    "import numpy as np\n",
    "import pandas as pd\n",
    "import matplotlib.pyplot as plt\n",
    "import scipy.stats as stats\n",
    "import urllib\n",
    "%matplotlib inline"
   ]
  },
  {
   "cell_type": "markdown",
   "id": "8b7fd57f-71a2-48f4-ba2d-9ea53484a809",
   "metadata": {},
   "source": [
    "## Overall background\n",
    "\n",
    "In this homework, we will conduct a comprehensive exercise for conducting exploratory data analysis for St. Lawrence River, a large international river in the middle latitudes of North America connecting the Great Lakes to the North Atlantic Ocean.\n",
    "\n",
    "## Problem #1: Access USGS data for 04264331 (ST. LAWRENCE R AT CORNWALL ONT NR MASSENA NY)\n",
    "1. Use `urllib` to download the data for USGS site 04264331, the start date is 1936-01-01 and the end date is 2022-12-31\n",
    "2. Please calculate the annual peak flow"
   ]
  },
  {
   "cell_type": "code",
   "execution_count": 36,
   "id": "ea4ce255-0819-4bd9-ba9b-8db8b7a9c6a0",
   "metadata": {},
   "outputs": [],
   "source": [
    "# download data"
   ]
  },
  {
   "cell_type": "code",
   "execution_count": 38,
   "id": "dae56d0e-b0b1-4e45-b2d9-2de702472e01",
   "metadata": {},
   "outputs": [],
   "source": [
    "# calculate annual peak flow"
   ]
  },
  {
   "cell_type": "markdown",
   "id": "fc6556de-46a7-4a2a-baae-71a309a903e0",
   "metadata": {},
   "source": [
    "## Problem #2: Exploratory Data Analysis (EDA)\n",
    "\n",
    "After we get the annual peak flow for St Lawrence River, we first conduct the following exploratory data analysis using available data for all years (1936-2022).\n",
    "1. Calculate the mean and standard deviation of annual peak flow across all years\n",
    "2. Plot CDF, PDF, and box plots for annual peak flow time series\n",
    "3. Please write a paragraph to describe the characteristics of peak flow in St Lawrence River using the metrics and plots above."
   ]
  },
  {
   "cell_type": "code",
   "execution_count": 31,
   "id": "54c02194-f9a8-4251-86ef-615b7c00bdbd",
   "metadata": {},
   "outputs": [
    {
     "name": "stdout",
     "output_type": "stream",
     "text": [
      "the mean annual peak flow is 295367.816091954 cfs\n"
     ]
    }
   ],
   "source": [
    "mean_peakflow = # insert code here\n",
    "print(\"the mean annual peak flow is %s cfs\"%mean_peakflow)"
   ]
  },
  {
   "cell_type": "code",
   "execution_count": 33,
   "id": "972426dc-0d92-4d54-98a3-d5be0b4db609",
   "metadata": {},
   "outputs": [
    {
     "name": "stdout",
     "output_type": "stream",
     "text": [
      "the standard deviation of annual peak flow is 36509.03518070903 cfs\n"
     ]
    }
   ],
   "source": [
    "sd_peakflow = # insert code here\n",
    "print(\"the standard deviation of annual peak flow is %s cfs\"%sd_peakflow)"
   ]
  },
  {
   "cell_type": "code",
   "execution_count": 37,
   "id": "b8b2992d-58e0-4be1-a9cf-514a5b3c8cd7",
   "metadata": {},
   "outputs": [],
   "source": [
    "# CDF plot"
   ]
  },
  {
   "cell_type": "code",
   "execution_count": null,
   "id": "37811909-ac16-4707-adb4-a0b7ec2d3da6",
   "metadata": {},
   "outputs": [],
   "source": [
    "# PDF plot"
   ]
  },
  {
   "cell_type": "code",
   "execution_count": null,
   "id": "f57bc58f-b126-4c36-ad5a-0cb6114ed8dc",
   "metadata": {},
   "outputs": [],
   "source": [
    "# box plot"
   ]
  },
  {
   "cell_type": "markdown",
   "id": "408e4d8a-379f-42b7-bbe3-df36f7763695",
   "metadata": {},
   "source": [
    "### Describe the characteristics of peak flows in St. Lawrence River\n",
    "\n",
    "Insert your text here"
   ]
  },
  {
   "cell_type": "markdown",
   "id": "174679dd-a8e1-47cd-aa37-cbad23f31c39",
   "metadata": {},
   "source": [
    "# Problem #3: Flood with 100-year recurrence interval\n",
    "The flood with 100-year recurrence interval are calculated based on all available dataset.\n",
    "1. If we travelled back to 1980, please plot Annual exceedance probability (AEP) and calculate flood with 100-year recurrence interval using data from 1936 to 1980.\n",
    "2. Again, please plot Annual exceedance probability (AEP) and calculate the flood with 100-year recurrence interval using all available data (1936-2022).\n",
    "3. Please discuss the differences in magnitude of 100-year floods given different data availability and what you learn from it."
   ]
  },
  {
   "cell_type": "code",
   "execution_count": null,
   "id": "e0e61d89-9cc3-4eef-81c9-98010b16416d",
   "metadata": {},
   "outputs": [],
   "source": [
    "# AEP using data from 1936 to 1980 & calculate flood with 100-year recurrence interval"
   ]
  },
  {
   "cell_type": "code",
   "execution_count": null,
   "id": "a2974575-c881-4733-91f5-39ecbe03891f",
   "metadata": {},
   "outputs": [],
   "source": [
    "# AEP using data from 1936 to 2022 & calculate flood with 100-year recurrence interval"
   ]
  }
 ],
 "metadata": {
  "kernelspec": {
   "display_name": "Python [conda env:root] *",
   "language": "python",
   "name": "conda-root-py"
  },
  "language_info": {
   "codemirror_mode": {
    "name": "ipython",
    "version": 3
   },
   "file_extension": ".py",
   "mimetype": "text/x-python",
   "name": "python",
   "nbconvert_exporter": "python",
   "pygments_lexer": "ipython3",
   "version": "3.9.7"
  }
 },
 "nbformat": 4,
 "nbformat_minor": 5
}
